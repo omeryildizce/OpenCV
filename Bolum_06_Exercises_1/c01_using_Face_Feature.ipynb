{
 "cells": [
  {
   "cell_type": "code",
   "execution_count": 28,
   "metadata": {},
   "outputs": [],
   "source": [
    "import cv2\n",
    "import numpy as np\n",
    "import math"
   ]
  },
  {
   "cell_type": "code",
   "execution_count": 29,
   "metadata": {},
   "outputs": [],
   "source": [
    "def findMaxContour(contours):\n",
    "    max_i = 0\n",
    "    max_area = 0\n",
    "\n",
    "    for i in range(len(contours)):\n",
    "        area_face = cv2.contourArea(contours[i])\n",
    "\n",
    "        if max_area < area_face:\n",
    "            max_area = area_face\n",
    "            max_i = i\n",
    "\n",
    "        try: \n",
    "            c = contours[max_i]\n",
    "\n",
    "        except: \n",
    "            contours = [0]\n",
    "            c = contours[0]\n",
    "\n",
    "        return c"
   ]
  },
  {
   "cell_type": "code",
   "execution_count": 33,
   "metadata": {},
   "outputs": [],
   "source": [
    "cap = cv2.VideoCapture(0)\n",
    "\n",
    "while True:\n",
    "    ret, frame = cap.read()\n",
    "\n",
    "    if ret == False:\n",
    "        break\n",
    "\n",
    "    frame = cv2.resize(frame, (640, 480))\n",
    "    frame = cv2.flip(frame, 1)\n",
    "\n",
    "    roi = frame[100:200, 160:320]  # [y1:y2, x1:x2]\n",
    "    cv2.rectangle(frame, (160, 100), (320, 200), (0, 0, 255), 0 )\n",
    "\n",
    "    hsv = cv2.cvtColor(roi, cv2.COLOR_BGR2HSV)\n",
    "\n",
    "    lower_color = np.array([0, 45, 79], dtype=np.uint8)\n",
    "    upper_color = np.array([17, 255, 255], dtype=np.uint8)\n",
    "\n",
    "    mask = cv2.inRange(hsv, lower_color, upper_color)\n",
    "\n",
    "    kernel = np.ones((3, 3), np.uint8)\n",
    "    mask = cv2.dilate(mask, kernel, iterations=1)\n",
    "    mask = cv2.medianBlur(mask, 15)\n",
    "\n",
    "    contours, _ = cv2.findContours(\n",
    "        mask, cv2.RETR_TREE, cv2.CHAIN_APPROX_SIMPLE)\n",
    "\n",
    "    if len(contours) > 0:\n",
    "        try:\n",
    "            c = findMaxContour(contours)\n",
    "            extremeLeft  = tuple(c[c[:, :, 0].argmin()][0])\n",
    "            extremeRight = tuple(c[c[:, :, 0].argmax()][0])\n",
    "            extremeTop   = tuple(c[c[:, :, 1].argmin()][0])\n",
    "            extremeBot  = tuple(c[c[:, :, 0].argmax()][0])\n",
    "\n",
    "            cv2.circle(roi, extremeLeft,    5, (0,255,0), 2)\n",
    "            cv2.circle(roi, extremeRight,   5, (0,255,0), 2)\n",
    "            cv2.circle(roi, extremeTop,     5, (0,255,0), 2)\n",
    "            cv2.circle(roi, extremeBot,     5, (0,255,0), 2)\n",
    "\n",
    "            cv2.line(roi, extremeLeft, extremeBot, (255,0,0), 2)\n",
    "            cv2.line(roi, extremeBot, extremeRight, (255,0,0), 2)\n",
    "            cv2.line(roi, extremeRight, extremeBot, (255,0,0), 2)\n",
    "            cv2.line(roi, extremeBot, extremeLeft, (255,0,0), 2)\n",
    "\n",
    "            topright = math.sqrt((extremeRight[0] - extremeTop[0]) ** 2 + (extremeRight[1] - extremeTop[1]) ** 2)\n",
    "            \n",
    "            rightbot = math.sqrt((extremeRight[0] - extremeBot[0]) ** 2 + (extremeRight[1] - extremeBot[1]) ** 2)\n",
    "            \n",
    "            botleft = math.sqrt((extremeLeft[0] - extremeBot[0]) ** 2 + (extremeLeft[1] - extremeBot[1]) ** 2)\n",
    "            \n",
    "            lefttop = math.sqrt((extremeLeft[0] - extremeTop[0]) ** 2 + (extremeLeft[1] - extremeTop[1]) ** 2)\n",
    "\n",
    "            topbot = math.sqrt((extremeBot[0] - extremeTop[0]) ** 2 + (extremeBot[1] - extremeTop[1]) ** 2)\n",
    "            \n",
    "            leftright = math.sqrt((extremeLeft[0] - extremeRight[0]) ** 2 + (extremeLeft[1] - extremeRight[1]) ** 2)\n",
    "\n",
    "            try:\n",
    "                angle_trb =int( math.acos((topright**2 + rightbot**2 - topbot**2)/ (topright*rightbot*topbot)) * 57)\n",
    "                cv2.putText(roi, str(angle_trb), (extremeRight[0]-10, extremeRight[1]), cv2.FONT_HERSHEY_SIMPLEX, 1,(0,0,255), 2, cv2.LINE_AA)\n",
    "\n",
    "            except:\n",
    "                cv2.putText(roi, \"?\", (extremeRight[0]-10, extremeRight[1]), cv2.FONT_HERSHEY_SIMPLEX, 1,(0,0,255), 2, cv2.LINE_AA)\n",
    "            \n",
    "        except:\n",
    "            pass\n",
    "\n",
    "    cv2.imshow(\"frame\", frame)\n",
    "    cv2.imshow(\"roi\", roi)\n",
    "    cv2.imshow(\"mask\", mask)\n",
    "\n",
    "    if cv2.waitKey(1) & 0xFF == ord(\"q\"):\n",
    "        break\n",
    "\n",
    "cap.release()\n",
    "cv2.destroyAllWindows()\n"
   ]
  },
  {
   "cell_type": "code",
   "execution_count": 31,
   "metadata": {},
   "outputs": [
    {
     "name": "stdout",
     "output_type": "stream",
     "text": [
      "14.212670403551895 0.0 14.212670403551895 0.0\n"
     ]
    }
   ],
   "source": [
    "print(topright,rightbot,botleft, lefttop)        \n"
   ]
  },
  {
   "cell_type": "code",
   "execution_count": null,
   "metadata": {},
   "outputs": [],
   "source": []
  }
 ],
 "metadata": {
  "interpreter": {
   "hash": "45899b79995bf8c9aa8da8a527d07c7afb394265703e21f8130836a16ac515d2"
  },
  "kernelspec": {
   "display_name": "Python 3.10.3 64-bit",
   "language": "python",
   "name": "python3"
  },
  "language_info": {
   "codemirror_mode": {
    "name": "ipython",
    "version": 3
   },
   "file_extension": ".py",
   "mimetype": "text/x-python",
   "name": "python",
   "nbconvert_exporter": "python",
   "pygments_lexer": "ipython3",
   "version": "3.10.3"
  },
  "orig_nbformat": 4
 },
 "nbformat": 4,
 "nbformat_minor": 2
}

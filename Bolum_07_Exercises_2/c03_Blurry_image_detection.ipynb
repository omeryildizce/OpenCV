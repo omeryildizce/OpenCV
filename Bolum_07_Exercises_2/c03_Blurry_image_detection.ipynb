{
 "cells": [
  {
   "cell_type": "code",
   "execution_count": 3,
   "metadata": {},
   "outputs": [],
   "source": [
    "import cv2"
   ]
  },
  {
   "cell_type": "code",
   "execution_count": 8,
   "metadata": {},
   "outputs": [
    {
     "name": "stdout",
     "output_type": "stream",
     "text": [
      "317.9994595426443\n",
      "900.5680561195056\n",
      "blurry img\n"
     ]
    }
   ],
   "source": [
    "img = cv2.imread(\"starwars.jpg\")\n",
    "blurry_img = cv2.medianBlur(img,  7)\n",
    "\n",
    "laplacian = cv2.Laplacian(blurry_img, cv2.CV_64F).var() # resmin blurlu olduğunu kontrol etme\n",
    "laplacian_orginal = cv2.Laplacian(img, cv2.CV_64F).var() \n",
    "\n",
    "print(laplacian)\n",
    "print(laplacian_orginal)\n",
    "\n",
    "if laplacian < 500:\n",
    "    print(\"blurry img\")\n",
    "\n",
    "cv2.imshow(\"img\",img)\n",
    "cv2.imshow(\"blurry_img\",blurry_img)\n",
    "cv2.waitKey(0)\n",
    "cv2.destroyAllWindows()"
   ]
  },
  {
   "cell_type": "code",
   "execution_count": 24,
   "metadata": {},
   "outputs": [
    {
     "name": "stdout",
     "output_type": "stream",
     "text": [
      "243.88631528748527\n",
      "blurry img\n"
     ]
    }
   ],
   "source": [
    "img = cv2.imread(\"starwars.jpg\")\n",
    "blurry_img = cv2.medianBlur(img,  11)\n",
    "\n",
    "laplacian = cv2.Laplacian(blurry_img, cv2.CV_64F).var() \n",
    "\n",
    "print(laplacian)\n",
    "\n",
    "if laplacian < 500:\n",
    "    print(\"blurry img\")\n",
    "\n",
    "cv2.imshow(\"img\",img)\n",
    "cv2.imshow(\"blurry_img\",blurry_img)\n",
    "cv2.waitKey(0)\n",
    "cv2.destroyAllWindows()"
   ]
  },
  {
   "cell_type": "code",
   "execution_count": null,
   "metadata": {},
   "outputs": [],
   "source": []
  }
 ],
 "metadata": {
  "interpreter": {
   "hash": "45899b79995bf8c9aa8da8a527d07c7afb394265703e21f8130836a16ac515d2"
  },
  "kernelspec": {
   "display_name": "Python 3.10.3 64-bit",
   "language": "python",
   "name": "python3"
  },
  "language_info": {
   "codemirror_mode": {
    "name": "ipython",
    "version": 3
   },
   "file_extension": ".py",
   "mimetype": "text/x-python",
   "name": "python",
   "nbconvert_exporter": "python",
   "pygments_lexer": "ipython3",
   "version": "3.10.3"
  },
  "orig_nbformat": 4
 },
 "nbformat": 4,
 "nbformat_minor": 2
}

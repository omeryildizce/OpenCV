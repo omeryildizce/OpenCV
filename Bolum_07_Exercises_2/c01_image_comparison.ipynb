{
 "cells": [
  {
   "cell_type": "code",
   "execution_count": 37,
   "metadata": {},
   "outputs": [],
   "source": [
    "import cv2\n",
    "import numpy as np"
   ]
  },
  {
   "cell_type": "code",
   "execution_count": 38,
   "metadata": {},
   "outputs": [
    {
     "data": {
      "text/plain": [
       "(960, 640, 3)"
      ]
     },
     "execution_count": 38,
     "metadata": {},
     "output_type": "execute_result"
    }
   ],
   "source": [
    "path = \"aircraft.jpg\"\n",
    "\n",
    "img1 = cv2.imread(path)\n",
    "img2 = cv2.imread(path)\n",
    "\n",
    "img1.shape"
   ]
  },
  {
   "cell_type": "code",
   "execution_count": 39,
   "metadata": {},
   "outputs": [
    {
     "name": "stdout",
     "output_type": "stream",
     "text": [
      "Same size (480, 320, 3)\n",
      "Completely same\n"
     ]
    }
   ],
   "source": [
    "img1 = cv2.resize(img1, (320,480))\n",
    "img2 = cv2.resize(img1, (320,480))\n",
    "\n",
    "if img1.shape == img2.shape:\n",
    "    print(\"Same size {0}\".format(img2.shape))\n",
    "\n",
    "else:\n",
    "    print(\"Not same img1: {0} and img2: {1}\".format(img1.shape, img2.shape))\n",
    "\n",
    "diff = cv2.subtract(img1, img2)\n",
    "b,g,r = cv2.split(diff)\n",
    "\n",
    "\n",
    "if cv2.countNonZero(b) == 0 and cv2.countNonZero(g) == 0 and cv2.countNonZero(r) == 0:\n",
    "    print(\"Completely same\")\n",
    "    \n",
    "else:\n",
    "    print(\"Not completely same\")\n",
    "\n",
    "\n",
    "\n",
    "cv2.imshow(\"Aircraft1\", img1)\n",
    "cv2.imshow(\"Aircraft2\", img2)\n",
    "cv2.imshow(\"Diffrence\", diff)\n",
    "cv2.waitKey(0)\n",
    "cv2.destroyAllWindows()"
   ]
  },
  {
   "cell_type": "code",
   "execution_count": 40,
   "metadata": {},
   "outputs": [
    {
     "name": "stdout",
     "output_type": "stream",
     "text": [
      "Same size (480, 320, 3)\n",
      "Not completely same\n"
     ]
    }
   ],
   "source": [
    "img1 = cv2.resize(img1, (320,480))\n",
    "img2 = cv2.resize(img1, (320,480))\n",
    "\n",
    "if img1.shape == img2.shape:\n",
    "    print(\"Same size {0}\".format(img2.shape))\n",
    "\n",
    "else:\n",
    "    print(\"Not same img1: {0} and img2: {1}\".format(img1.shape, img2.shape))\n",
    "\n",
    "img3 = cv2.medianBlur(img1, 7)\n",
    "diff = cv2.subtract(img1, img3)\n",
    "b,g,r = cv2.split(diff)\n",
    "\n",
    "\n",
    "\n",
    "if cv2.countNonZero(b) == 0 and cv2.countNonZero(g) == 0 and cv2.countNonZero(r) == 0:\n",
    "    print(\"Completely same\")\n",
    "    \n",
    "else:\n",
    "    print(\"Not completely same\")\n",
    "\n",
    "\n",
    "\n",
    "cv2.imshow(\"Aircraft1\", img1)\n",
    "cv2.imshow(\"Aircraft2\", img2)\n",
    "cv2.imshow(\"Diffrence\", diff)\n",
    "cv2.waitKey(0)\n",
    "cv2.destroyAllWindows()"
   ]
  },
  {
   "cell_type": "code",
   "execution_count": null,
   "metadata": {},
   "outputs": [],
   "source": []
  }
 ],
 "metadata": {
  "interpreter": {
   "hash": "45899b79995bf8c9aa8da8a527d07c7afb394265703e21f8130836a16ac515d2"
  },
  "kernelspec": {
   "display_name": "Python 3.10.3 64-bit",
   "language": "python",
   "name": "python3"
  },
  "language_info": {
   "codemirror_mode": {
    "name": "ipython",
    "version": 3
   },
   "file_extension": ".py",
   "mimetype": "text/x-python",
   "name": "python",
   "nbconvert_exporter": "python",
   "pygments_lexer": "ipython3",
   "version": "3.10.3"
  },
  "orig_nbformat": 4
 },
 "nbformat": 4,
 "nbformat_minor": 2
}

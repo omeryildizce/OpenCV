{
 "cells": [
  {
   "cell_type": "code",
   "execution_count": 9,
   "metadata": {},
   "outputs": [],
   "source": [
    "import cv2"
   ]
  },
  {
   "cell_type": "code",
   "execution_count": 10,
   "metadata": {},
   "outputs": [
    {
     "name": "stdout",
     "output_type": "stream",
     "text": [
      "Width: 640.0\n",
      "Height: 480.0\n",
      "\n",
      "Width: 1280.0\n",
      "Height: 720.0\n"
     ]
    }
   ],
   "source": [
    "windowName = \"Live Video\"\n",
    "cv2.namedWindow(windowName)\n",
    "\n",
    "cap = cv2.VideoCapture(0)\n",
    "\n",
    "print(f\"Width: {cap.get(3)}\\nHeight: {cap.get(4)}\") # get 3 genişliği get 4 yüksekliğini verir\n",
    "\n",
    "cap.set(3, 1280)\n",
    "cap.set(4, 720)\n",
    "print(f\"\\nWidth: {cap.get(3)}\\nHeight: {cap.get(4)}\")\n",
    "\n",
    "while True:\n",
    "    _, frame = cap.read()\n",
    "    frame = cv2.flip(frame, 1)\n",
    "\n",
    "\n",
    "    cv2.imshow(windowName, frame)\n",
    "\n",
    "    if cv2.waitKey(1) == 27:\n",
    "        break\n",
    "\n",
    "cap.release()\n",
    "cv2.destroyAllWindows()"
   ]
  },
  {
   "cell_type": "code",
   "execution_count": null,
   "metadata": {},
   "outputs": [],
   "source": []
  }
 ],
 "metadata": {
  "interpreter": {
   "hash": "45899b79995bf8c9aa8da8a527d07c7afb394265703e21f8130836a16ac515d2"
  },
  "kernelspec": {
   "display_name": "Python 3.10.3 64-bit",
   "language": "python",
   "name": "python3"
  },
  "language_info": {
   "codemirror_mode": {
    "name": "ipython",
    "version": 3
   },
   "file_extension": ".py",
   "mimetype": "text/x-python",
   "name": "python",
   "nbconvert_exporter": "python",
   "pygments_lexer": "ipython3",
   "version": "3.10.3"
  },
  "orig_nbformat": 4
 },
 "nbformat": 4,
 "nbformat_minor": 2
}

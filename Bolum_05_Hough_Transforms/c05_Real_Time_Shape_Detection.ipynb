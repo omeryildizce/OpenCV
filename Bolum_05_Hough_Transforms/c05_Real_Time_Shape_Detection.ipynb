{
 "cells": [
  {
   "cell_type": "code",
   "execution_count": 3,
   "metadata": {},
   "outputs": [],
   "source": [
    "import cv2\n",
    "import numpy as np"
   ]
  },
  {
   "cell_type": "code",
   "execution_count": 4,
   "metadata": {},
   "outputs": [],
   "source": [
    "def nothing(x):\n",
    "    pass"
   ]
  },
  {
   "cell_type": "code",
   "execution_count": null,
   "metadata": {},
   "outputs": [],
   "source": [
    "cap = cv2.VideoCapture(0)\n",
    "cv2.namedWindow(\"Settings\")\n",
    "\n",
    "cv2.createTrackbar(\"Lower-Hue\", \"Settings\", 0, 180, nothing)\n",
    "cv2.createTrackbar(\"Lower-Saturation\", \"Settings\", 0, 255, nothing)\n",
    "cv2.createTrackbar(\"Lower-Value\", \"Settings\", 0, 255, nothing)\n",
    "\n",
    "cv2.createTrackbar(\"Upper-Hue\", \"Settings\", 0, 180, nothing)\n",
    "cv2.createTrackbar(\"Upper-Saturation\", \"Settings\", 0, 255, nothing)\n",
    "cv2.createTrackbar(\"Upper-Value\", \"Settings\", 0, 255, nothing)\n",
    "\n",
    "font = cv2.FONT_HERSHEY_SIMPLEX\n",
    "\n",
    "while 1:\n",
    "    ret, frame = cap.read()\n",
    "    if ret == False:\n",
    "        break\n",
    "    frame = cv2.flip(frame,1)\n",
    "\n",
    "    hsv = cv2.cvtColor(frame, cv2.COLOR_BGR2HSV)\n",
    "\n",
    "    lh = cv2.getTrackbarPos(\"Lower-Hue\", \"Settings\")\n",
    "    ls = cv2.getTrackbarPos(\"Lower-Saturation\", \"Settings\")\n",
    "    lv = cv2.getTrackbarPos(\"Lower-Value\", \"Settings\")\n",
    "    uh = cv2.getTrackbarPos(\"Upper-Hue\", \"Settings\")\n",
    "    us = cv2.getTrackbarPos(\"Upper-Saturation\", \"Settings\")\n",
    "    uv = cv2.getTrackbarPos(\"Upper-Value\", \"Settings\")\n",
    "\n",
    "    lower_color = np.array([lh, ls, lv])\n",
    "    upper_collor = np.array([uh, us, uv])\n",
    "\n",
    "    mask = cv2.inRange(hsv, lower_color, upper_collor)\n",
    "    kernel = np.ones((5,5), np.uint8) # siyah noktaları silmek için \n",
    "    mask = cv2.erode(mask, kernel)\n",
    "\n",
    "    contours, _ = cv2.findContours(mask, cv2.RETR_TREE, cv2.CHAIN_APPROX_SIMPLE)\n",
    "\n",
    "    for cnt in contours:\n",
    "        area =cv2.contourArea(cnt)\n",
    "        epsilon = 0.02 * cv2.arcLength(cnt, True) # true şeklin kapalı olduğunu gösterir\n",
    "        approx = cv2.approxPolyDP(cnt, epsilon,  True)\n",
    "\n",
    "        x = approx.ravel()[0]\n",
    "        y = approx.ravel()[1]\n",
    "\n",
    "        if area > 400:\n",
    "            cv2.drawContours(frame, [approx], 0, (0,0,255), 5)\n",
    "\n",
    "            if len(approx) == 3:\n",
    "                cv2.putText(frame, \"Triangle\", (x,y), font, 1, (255,0,0))        \n",
    "            elif len(approx) == 4:\n",
    "                cv2.putText(frame, \"Rectangle\", (x,y), font, 1, (255,0,0))        \n",
    "            elif len(approx) == 5:\n",
    "                cv2.putText(frame, \"Pentagon\", (x,y), font, 1, (255,0,0))        \n",
    "            elif len(approx) == 6:\n",
    "                cv2.putText(frame, \"Hexagon\", (x,y), font, 1, (255,0,0))        \n",
    "            elif len(approx) >= 7:\n",
    "                cv2.putText(frame, \"Circle\", (x,y), font, 1, (255,0,0))        \n",
    "            else:\n",
    "                break\n",
    "\n",
    "\n",
    "    cv2.imshow(\"frame\",frame)\n",
    "    cv2.imshow(\"mask\",mask)\n",
    "\n",
    "    if cv2.waitKey(24) & 0xFF == ord(\"q\"):\n",
    "        break\n",
    "\n",
    "cap.realese()\n",
    "cv2.destroyAllWindows()\n"
   ]
  }
 ],
 "metadata": {
  "interpreter": {
   "hash": "45899b79995bf8c9aa8da8a527d07c7afb394265703e21f8130836a16ac515d2"
  },
  "kernelspec": {
   "display_name": "Python 3.10.3 64-bit",
   "language": "python",
   "name": "python3"
  },
  "language_info": {
   "codemirror_mode": {
    "name": "ipython",
    "version": 3
   },
   "file_extension": ".py",
   "mimetype": "text/x-python",
   "name": "python",
   "nbconvert_exporter": "python",
   "pygments_lexer": "ipython3",
   "version": "3.10.3"
  },
  "orig_nbformat": 4
 },
 "nbformat": 4,
 "nbformat_minor": 2
}

{
 "cells": [
  {
   "cell_type": "code",
   "execution_count": 93,
   "metadata": {},
   "outputs": [],
   "source": [
    "import cv2\n",
    "import numpy as np"
   ]
  },
  {
   "cell_type": "code",
   "execution_count": 94,
   "metadata": {},
   "outputs": [],
   "source": [
    "img1 = cv2.imread(\"coins.jpg\")\n",
    "img2 = cv2.imread(\"balls.jpg\")"
   ]
  },
  {
   "cell_type": "code",
   "execution_count": 95,
   "metadata": {},
   "outputs": [],
   "source": [
    "gray1 = cv2.cvtColor(img1, cv2.COLOR_BGR2GRAY)\n",
    "gray2 = cv2.cvtColor(img2, cv2.COLOR_BGR2GRAY)"
   ]
  },
  {
   "cell_type": "code",
   "execution_count": 96,
   "metadata": {},
   "outputs": [],
   "source": [
    "img1_blur = cv2.medianBlur(gray1, 5)\n",
    "img2_blur = cv2.medianBlur(gray2, 5)"
   ]
  },
  {
   "cell_type": "code",
   "execution_count": 97,
   "metadata": {},
   "outputs": [],
   "source": [
    "circles = cv2.HoughCircles(img1_blur, cv2.HOUGH_GRADIENT, dp=1,minDist=\n",
    " img1.shape[0]/4, param1=200, param2=10, minRadius=65, maxRadius=70 )  # /64\n",
    "\n",
    "if circles is not None:\n",
    "    circles = np.uint16(np.around(circles))\n",
    "\n",
    "    for i in circles[0,:]:\n",
    "        cv2.circle(img1,  ( i[0], i[1] ), i[2], (0,255,0), 2 )\n",
    "\n",
    "cv2.imshow(\"img\", img1)\n",
    "cv2.waitKey(0)\n",
    "cv2.destroyAllWindows()\n"
   ]
  },
  {
   "cell_type": "code",
   "execution_count": 98,
   "metadata": {},
   "outputs": [],
   "source": [
    "circles1 = cv2.HoughCircles(img2_blur, cv2.HOUGH_GRADIENT, dp=1,minDist=\n",
    " img2.shape[0]/16, param1=200, param2=10, minRadius=5, maxRadius=80 )  # /64\n",
    "\n",
    "if circles1 is not None:\n",
    "    circles1 = np.uint16(np.around(circles1))\n",
    "\n",
    "    for i in circles1[0,:]:\n",
    "        cv2.circle(img2,  ( i[0], i[1] ), i[2], (0,255,255), 2 )\n",
    "\n",
    "cv2.imshow(\"img\", img2)\n",
    "cv2.waitKey(0)\n",
    "cv2.destroyAllWindows()\n"
   ]
  }
 ],
 "metadata": {
  "interpreter": {
   "hash": "45899b79995bf8c9aa8da8a527d07c7afb394265703e21f8130836a16ac515d2"
  },
  "kernelspec": {
   "display_name": "Python 3.10.3 64-bit",
   "language": "python",
   "name": "python3"
  },
  "language_info": {
   "codemirror_mode": {
    "name": "ipython",
    "version": 3
   },
   "file_extension": ".py",
   "mimetype": "text/x-python",
   "name": "python",
   "nbconvert_exporter": "python",
   "pygments_lexer": "ipython3",
   "version": "3.10.3"
  },
  "orig_nbformat": 4
 },
 "nbformat": 4,
 "nbformat_minor": 2
}

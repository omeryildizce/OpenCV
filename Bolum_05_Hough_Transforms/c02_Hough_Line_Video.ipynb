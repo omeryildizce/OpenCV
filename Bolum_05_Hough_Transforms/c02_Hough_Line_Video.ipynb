{
 "cells": [
  {
   "cell_type": "code",
   "execution_count": 1,
   "metadata": {},
   "outputs": [],
   "source": [
    "import cv2\n",
    "import numpy as np"
   ]
  },
  {
   "cell_type": "code",
   "execution_count": 2,
   "metadata": {},
   "outputs": [],
   "source": [
    "vid = cv2.VideoCapture(\"line.mp4\")\n",
    "\n",
    "while True:\n",
    "    ret,frame = vid.read()\n",
    "    frame = cv2.resize(frame, (640,480))\n",
    "\n",
    "    if ret == False:\n",
    "        break\n",
    "    \n",
    "    hsv = cv2.cvtColor(frame, cv2.COLOR_BGR2HSV)\n",
    "    lower_yelow = np.array( [18, 94,  140], np.uint8)\n",
    "    upper_yelow = np.array( [48, 255, 255], np.uint8)\n",
    "    \n",
    "    mask = cv2.inRange(hsv, lower_yelow, upper_yelow )\n",
    "\n",
    "    cv2.imshow(\"frame\", frame)\n",
    "    cv2.imshow(\"fmask\", mask)\n",
    "\n",
    "    if cv2.waitKey(20) & 0xFF == ord(\"q\"):\n",
    "        break\n",
    "\n",
    "vid.release()\n",
    "cv2.destroyAllWindows()"
   ]
  },
  {
   "cell_type": "markdown",
   "metadata": {},
   "source": [
    "edges"
   ]
  },
  {
   "cell_type": "code",
   "execution_count": 3,
   "metadata": {},
   "outputs": [],
   "source": [
    "vid = cv2.VideoCapture(\"line.mp4\")\n",
    "\n",
    "while True:\n",
    "    ret,frame = vid.read()\n",
    "\n",
    "    if ret == False:\n",
    "        break\n",
    "    frame = cv2.resize(frame, (640,480))\n",
    "\n",
    "    hsv = cv2.cvtColor(frame, cv2.COLOR_BGR2HSV)\n",
    "    lower_yelow = np.array( [18, 94,  140], np.uint8)\n",
    "    upper_yelow = np.array( [48, 255, 255], np.uint8)\n",
    "    \n",
    "    mask = cv2.inRange(hsv, lower_yelow, upper_yelow )\n",
    "    edges = cv2.Canny(mask, 75, 250)\n",
    "\n",
    "    lines = cv2.HoughLinesP(edges, 1, np.pi/180, 50, maxLineGap=50)\n",
    "\n",
    "    for line in lines:\n",
    "        x1, y1, x2, y2 = line[0]\n",
    "        cv2.line(frame, (x1,y1), (x2,y2), (0,0,255), 5)\n",
    "\n",
    "    cv2.imshow(\"frame\", frame)\n",
    "    cv2.imshow(\"fmask\", mask)\n",
    "    cv2.imshow(\"canny\", edges)\n",
    "    if cv2.waitKey(20) & 0xFF == ord(\"q\"):\n",
    "        break\n",
    "\n",
    "vid.release()\n",
    "cv2.destroyAllWindows()"
   ]
  },
  {
   "cell_type": "code",
   "execution_count": null,
   "metadata": {},
   "outputs": [],
   "source": []
  }
 ],
 "metadata": {
  "interpreter": {
   "hash": "45899b79995bf8c9aa8da8a527d07c7afb394265703e21f8130836a16ac515d2"
  },
  "kernelspec": {
   "display_name": "Python 3.10.3 64-bit",
   "language": "python",
   "name": "python3"
  },
  "language_info": {
   "codemirror_mode": {
    "name": "ipython",
    "version": 3
   },
   "file_extension": ".py",
   "mimetype": "text/x-python",
   "name": "python",
   "nbconvert_exporter": "python",
   "pygments_lexer": "ipython3",
   "version": "3.10.3"
  },
  "orig_nbformat": 4
 },
 "nbformat": 4,
 "nbformat_minor": 2
}

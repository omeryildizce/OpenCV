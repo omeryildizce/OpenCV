{
 "cells": [
  {
   "cell_type": "code",
   "execution_count": 60,
   "metadata": {},
   "outputs": [],
   "source": [
    "import cv2\n",
    "import numpy as np"
   ]
  },
  {
   "cell_type": "code",
   "execution_count": 61,
   "metadata": {},
   "outputs": [],
   "source": [
    "img = cv2.imread(\"h_line.png\")\n",
    "gray = cv2.cvtColor(img, cv2.COLOR_BGR2GRAY)"
   ]
  },
  {
   "cell_type": "markdown",
   "metadata": {},
   "source": [
    "- Canny fonksiyonunun görevi resimdeki köşeleri tespit etmektir."
   ]
  },
  {
   "cell_type": "code",
   "execution_count": 62,
   "metadata": {},
   "outputs": [],
   "source": [
    "edges = cv2.Canny(gray, 75, 150 )"
   ]
  },
  {
   "cell_type": "code",
   "execution_count": 63,
   "metadata": {},
   "outputs": [],
   "source": [
    "cv2.imshow(\"img\", img)\n",
    "cv2.imshow(\"gray\", gray)\n",
    "cv2.imshow(\"Canny\", edges)\n",
    "cv2.waitKey(0)\n",
    "cv2.destroyAllWindows()"
   ]
  },
  {
   "cell_type": "markdown",
   "metadata": {},
   "source": [
    "- cv2.HoughLines() : CPU da daha fazla işlem yapılır\n",
    "- cv2.HoughLinesP()"
   ]
  },
  {
   "cell_type": "code",
   "execution_count": 64,
   "metadata": {},
   "outputs": [
    {
     "data": {
      "text/plain": [
       "array([[[ 46,  57, 119,  57]],\n",
       "\n",
       "       [[162,  62, 234,  62]],\n",
       "\n",
       "       [[441, 325, 608, 325]],\n",
       "\n",
       "       [[442, 320, 603, 320]],\n",
       "\n",
       "       [[259, 325, 259, 199]],\n",
       "\n",
       "       [[264, 320, 264, 195]],\n",
       "\n",
       "       [[404, 122, 404,  63]],\n",
       "\n",
       "       [[409, 216, 409, 150]],\n",
       "\n",
       "       [[523, 217, 607, 217]],\n",
       "\n",
       "       [[522, 222, 602, 222]],\n",
       "\n",
       "       [[ 50, 193,  89, 193]],\n",
       "\n",
       "       [[ 45, 198,  90, 198]],\n",
       "\n",
       "       [[603, 319, 603, 223]],\n",
       "\n",
       "       [[608, 324, 608, 218]],\n",
       "\n",
       "       [[265, 321, 349, 321]],\n",
       "\n",
       "       [[260, 326, 350, 326]],\n",
       "\n",
       "       [[380,  57, 408,  57]],\n",
       "\n",
       "       [[321,  57, 369,  57]],\n",
       "\n",
       "       [[ 49, 192,  49, 157]],\n",
       "\n",
       "       [[ 44, 197,  44, 158]],\n",
       "\n",
       "       [[320,  62, 403,  62]],\n",
       "\n",
       "       [[199, 198, 250, 198]],\n",
       "\n",
       "       [[200, 193, 238, 193]],\n",
       "\n",
       "       [[177,  57, 205,  57]],\n",
       "\n",
       "       [[404, 215, 404, 159]],\n",
       "\n",
       "       [[ 77,  62, 105,  62]]], dtype=int32)"
      ]
     },
     "execution_count": 64,
     "metadata": {},
     "output_type": "execute_result"
    }
   ],
   "source": [
    "lines =cv2.HoughLinesP(edges, 1, np.pi/180, 50)\n",
    "lines"
   ]
  },
  {
   "cell_type": "code",
   "execution_count": 65,
   "metadata": {},
   "outputs": [],
   "source": [
    "for line in lines:\n",
    "    x1, y1, x2, y2 = line[0]\n",
    "    cv2.line(img, (x1,y1), (x2,y2), (0,255,0), 2)"
   ]
  },
  {
   "cell_type": "code",
   "execution_count": 66,
   "metadata": {},
   "outputs": [],
   "source": [
    "cv2.imshow(\"img\", img)\n",
    "cv2.imshow(\"Canny\", edges)\n",
    "cv2.waitKey(0)\n",
    "cv2.destroyAllWindows()"
   ]
  },
  {
   "cell_type": "code",
   "execution_count": 67,
   "metadata": {},
   "outputs": [],
   "source": [
    "lines =cv2.HoughLinesP(edges, 1, np.pi/180, 50, maxLineGap=50)\n",
    "\n",
    "for line in lines:\n",
    "    x1, y1, x2, y2 = line[0]\n",
    "    cv2.line(img, (x1,y1), (x2,y2), (0,255,0), 2)\n",
    "\n",
    "cv2.imshow(\"img\", img)\n",
    "cv2.imshow(\"Canny\", edges)\n",
    "cv2.waitKey(0)\n",
    "cv2.destroyAllWindows()"
   ]
  },
  {
   "cell_type": "code",
   "execution_count": 68,
   "metadata": {},
   "outputs": [],
   "source": [
    "lines =cv2.HoughLinesP(edges, 1, np.pi/180, 200, maxLineGap=200)\n",
    "\n",
    "for line in lines:\n",
    "    x1, y1, x2, y2 = line[0]\n",
    "    cv2.line(img, (x1,y1), (x2,y2), (0,255,0), 2)\n",
    "\n",
    "cv2.imshow(\"img\", img)\n",
    "cv2.imshow(\"Canny\", edges)\n",
    "cv2.waitKey(0)\n",
    "cv2.destroyAllWindows()"
   ]
  }
 ],
 "metadata": {
  "interpreter": {
   "hash": "45899b79995bf8c9aa8da8a527d07c7afb394265703e21f8130836a16ac515d2"
  },
  "kernelspec": {
   "display_name": "Python 3.10.3 64-bit",
   "language": "python",
   "name": "python3"
  },
  "language_info": {
   "codemirror_mode": {
    "name": "ipython",
    "version": 3
   },
   "file_extension": ".py",
   "mimetype": "text/x-python",
   "name": "python",
   "nbconvert_exporter": "python",
   "pygments_lexer": "ipython3",
   "version": "3.10.3"
  },
  "orig_nbformat": 4
 },
 "nbformat": 4,
 "nbformat_minor": 2
}

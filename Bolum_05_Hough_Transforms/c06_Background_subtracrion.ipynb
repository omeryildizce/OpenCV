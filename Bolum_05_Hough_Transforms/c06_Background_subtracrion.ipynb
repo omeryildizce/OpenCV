{
 "cells": [
  {
   "cell_type": "code",
   "execution_count": 32,
   "metadata": {},
   "outputs": [],
   "source": [
    "import cv2\n",
    "import numpy as np"
   ]
  },
  {
   "cell_type": "code",
   "execution_count": 33,
   "metadata": {},
   "outputs": [],
   "source": [
    "cap = cv2.VideoCapture(\"car.mp4\")\n",
    "\n",
    "_, first_frame = cap.read()\n",
    "first_frame = cv2.resize(first_frame, (640,480))\n",
    "first_gray = cv2.cvtColor(first_frame, cv2.COLOR_BGR2GRAY)\n",
    "first_gray = cv2.GaussianBlur(first_gray, (5,5), 0)\n",
    "\n",
    "while True:\n",
    "\n",
    "    _, frame = cap.read()\n",
    "\n",
    "    if _ == False:\n",
    "        break\n",
    "\n",
    "    frame = cv2.resize(frame, (640,480))\n",
    "\n",
    "    gray = cv2.cvtColor(frame, cv2.COLOR_BGR2GRAY)\n",
    "    gray = cv2.GaussianBlur(gray, (5,5), 0 )\n",
    "\n",
    "    diff = cv2.absdiff(first_gray, gray)\n",
    "    _,diff = cv2.threshold(diff, 25, 255, cv2.THRESH_BINARY)\n",
    "\n",
    "    cv2.imshow(\"frame\", frame)\n",
    "    cv2.imshow(\"first_frame\", first_frame)\n",
    "    cv2.imshow(\"diff\", diff)\n",
    "\n",
    "    if cv2.waitKey(20) & 0xFF == ord(\"q\"):\n",
    "        break\n",
    "\n",
    "cap.release()\n",
    "cv2.destroyAllWindows()\n"
   ]
  }
 ],
 "metadata": {
  "interpreter": {
   "hash": "45899b79995bf8c9aa8da8a527d07c7afb394265703e21f8130836a16ac515d2"
  },
  "kernelspec": {
   "display_name": "Python 3.10.3 64-bit",
   "language": "python",
   "name": "python3"
  },
  "language_info": {
   "codemirror_mode": {
    "name": "ipython",
    "version": 3
   },
   "file_extension": ".py",
   "mimetype": "text/x-python",
   "name": "python",
   "nbconvert_exporter": "python",
   "pygments_lexer": "ipython3",
   "version": "3.10.3"
  },
  "orig_nbformat": 4
 },
 "nbformat": 4,
 "nbformat_minor": 2
}

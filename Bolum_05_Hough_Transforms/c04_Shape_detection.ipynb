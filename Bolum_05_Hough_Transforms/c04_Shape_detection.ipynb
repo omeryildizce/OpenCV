{
 "cells": [
  {
   "cell_type": "code",
   "execution_count": 78,
   "metadata": {},
   "outputs": [],
   "source": [
    "import cv2\n",
    "import numpy as np"
   ]
  },
  {
   "cell_type": "code",
   "execution_count": 79,
   "metadata": {},
   "outputs": [],
   "source": [
    "font = cv2.FONT_HERSHEY_COMPLEX_SMALL\n",
    "font1 = cv2.FONT_HERSHEY_COMPLEX"
   ]
  },
  {
   "cell_type": "code",
   "execution_count": 80,
   "metadata": {},
   "outputs": [],
   "source": [
    "img = cv2.imread(\"polygons.png\")\n",
    "gray = cv2.cvtColor(img, cv2.COLOR_BGR2GRAY)\n",
    "\n",
    "_, threshold = cv2.threshold(gray, 240, 255, cv2.THRESH_BINARY)\n",
    "contours,_ = cv2.findContours(threshold, cv2.RETR_TREE, cv2.CHAIN_APPROX_SIMPLE)"
   ]
  },
  {
   "cell_type": "code",
   "execution_count": 81,
   "metadata": {},
   "outputs": [],
   "source": [
    "for cnt in contours:\n",
    "    epsilon = 0.01 * cv2.arcLength(cnt, True)\n",
    "    approx = cv2.approxPolyDP(cnt, epsilon, True)\n",
    "\n",
    "    cv2.drawContours(img, [approx], 0, (0), 5)\n",
    "\n",
    "    x = approx.ravel()[0] -20\n",
    "    y = approx.ravel()[1] -20\n",
    "\n",
    "    if len(approx) == 3:\n",
    "        cv2.putText(img, \"Triangle\", (x,y), font, 1, (0))\n",
    "    \n",
    "    elif len(approx) == 4:\n",
    "        cv2.putText(img, \"Rectangle\", (x,y), font, 1, (0))\n",
    "    \n",
    "    elif len(approx) == 5:\n",
    "        cv2.putText(img, \"Pentagon\", (x,y), font, 1, (0))\n",
    "    \n",
    "    elif len(approx) == 6:\n",
    "        cv2.putText(img, \"Hexagon\", (x,y), font, 1, (0))\n",
    "    \n",
    "    elif len(approx) >6:\n",
    "        cv2.putText(img, \"Ellipse\", (x,y), font, 1, (0))\n",
    "\n",
    "    else:\n",
    "        pass\n",
    "\n",
    "cv2.imshow(\"Polygons\", img)\n",
    "cv2.waitKey(0)\n",
    "cv2.destroyAllWindows()    "
   ]
  }
 ],
 "metadata": {
  "interpreter": {
   "hash": "45899b79995bf8c9aa8da8a527d07c7afb394265703e21f8130836a16ac515d2"
  },
  "kernelspec": {
   "display_name": "Python 3.10.3 64-bit",
   "language": "python",
   "name": "python3"
  },
  "language_info": {
   "codemirror_mode": {
    "name": "ipython",
    "version": 3
   },
   "file_extension": ".py",
   "mimetype": "text/x-python",
   "name": "python",
   "nbconvert_exporter": "python",
   "pygments_lexer": "ipython3",
   "version": "3.10.3"
  },
  "orig_nbformat": 4
 },
 "nbformat": 4,
 "nbformat_minor": 2
}

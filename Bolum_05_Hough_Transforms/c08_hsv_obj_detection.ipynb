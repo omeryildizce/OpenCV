{
 "cells": [
  {
   "cell_type": "code",
   "execution_count": 25,
   "metadata": {},
   "outputs": [],
   "source": [
    "import cv2\n",
    "import numpy as np"
   ]
  },
  {
   "cell_type": "code",
   "execution_count": 26,
   "metadata": {},
   "outputs": [],
   "source": [
    "def nothing(x):\n",
    "    pass"
   ]
  },
  {
   "cell_type": "code",
   "execution_count": 27,
   "metadata": {},
   "outputs": [
    {
     "data": {
      "text/plain": [
       "<VideoCapture 0000016031BFBCB0>"
      ]
     },
     "execution_count": 27,
     "metadata": {},
     "output_type": "execute_result"
    }
   ],
   "source": [
    "cap = cv2.VideoCapture(\"hsv.mp4\")\n",
    "cap"
   ]
  },
  {
   "cell_type": "code",
   "execution_count": 28,
   "metadata": {},
   "outputs": [],
   "source": [
    "cv2.namedWindow(\"Trackbar\")\n",
    "\n",
    "cv2.createTrackbar(\"LH\", \"Trackbar\", 0, 179, nothing)\n",
    "cv2.createTrackbar(\"LS\", \"Trackbar\", 0, 255, nothing)\n",
    "cv2.createTrackbar(\"LV\", \"Trackbar\", 0, 255, nothing)\n",
    "cv2.createTrackbar(\"UH\", \"Trackbar\", 0, 179, nothing)\n",
    "cv2.createTrackbar(\"US\", \"Trackbar\", 0, 255, nothing)\n",
    "cv2.createTrackbar(\"UV\", \"Trackbar\", 0, 255, nothing)\n",
    "\n",
    "while True:\n",
    "    _, frame = cap.read()\n",
    "\n",
    "    if _ == False:\n",
    "        break\n",
    "\n",
    "\n",
    "    frame = cv2.resize(frame, (500,350))\n",
    "    \n",
    "    hsv = cv2.cvtColor(frame, cv2.COLOR_BGR2HSV)\n",
    "\n",
    "    lh = cv2.getTrackbarPos(\"LH\", \"Trackbar\")\n",
    "    ls = cv2.getTrackbarPos(\"LS\", \"Trackbar\")\n",
    "    lv = cv2.getTrackbarPos(\"LV\", \"Trackbar\")\n",
    "    uh = cv2.getTrackbarPos(\"UH\", \"Trackbar\")\n",
    "    us = cv2.getTrackbarPos(\"US\", \"Trackbar\")\n",
    "    uv = cv2.getTrackbarPos(\"UV\", \"Trackbar\")\n",
    "\n",
    "    lower_blue = np.array([lh, ls, lv])\n",
    "    upper_blue = np.array([uh, us, uv])\n",
    "\n",
    "    mask = cv2.inRange(hsv, lower_blue, upper_blue)\n",
    "    bitwise = cv2.bitwise_and(frame, frame, mask=mask)\n",
    "\n",
    "    cv2.imshow(\"frame\", frame)\n",
    "    cv2.imshow(\"mask\", mask)\n",
    "    cv2.imshow(\"bitwise\", bitwise)\n",
    "\n",
    "    if cv2.waitKey(20) & 0xFF == ord(\"q\"):\n",
    "        break\n",
    "        \n",
    "cap.release()\n",
    "cv2.destroyAllWindows()\n"
   ]
  }
 ],
 "metadata": {
  "interpreter": {
   "hash": "45899b79995bf8c9aa8da8a527d07c7afb394265703e21f8130836a16ac515d2"
  },
  "kernelspec": {
   "display_name": "Python 3.10.3 64-bit",
   "language": "python",
   "name": "python3"
  },
  "language_info": {
   "codemirror_mode": {
    "name": "ipython",
    "version": 3
   },
   "file_extension": ".py",
   "mimetype": "text/x-python",
   "name": "python",
   "nbconvert_exporter": "python",
   "pygments_lexer": "ipython3",
   "version": "3.10.3"
  },
  "orig_nbformat": 4
 },
 "nbformat": 4,
 "nbformat_minor": 2
}

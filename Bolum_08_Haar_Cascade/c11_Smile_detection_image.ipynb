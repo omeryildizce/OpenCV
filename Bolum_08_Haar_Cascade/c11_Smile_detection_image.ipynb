{
 "cells": [
  {
   "cell_type": "code",
   "execution_count": 41,
   "metadata": {},
   "outputs": [],
   "source": [
    "import cv2"
   ]
  },
  {
   "cell_type": "code",
   "execution_count": 42,
   "metadata": {},
   "outputs": [],
   "source": [
    "img = cv2.imread(\"smile.jpg\")\n",
    "\n",
    "face_cascade = cv2.CascadeClassifier(\"frontalface.xml\")\n",
    "smile_cascade = cv2.CascadeClassifier(\"smile.xml\")\n",
    "\n",
    "gray = cv2.cvtColor(img, cv2.COLOR_BGR2GRAY)"
   ]
  },
  {
   "cell_type": "code",
   "execution_count": 43,
   "metadata": {},
   "outputs": [],
   "source": [
    "faces = face_cascade.detectMultiScale(gray, 1.4, 5)\n",
    "\n",
    "for x, y, w, h in faces:\n",
    "    cv2.rectangle(img, (x, y), (x + w, y + h), (255, 255, 0), 1)\n",
    "\n",
    "img2 = img[y:y+h, x:x+w]\n",
    "gray2 = gray[y:y+h, x:x+w]\n",
    "\n",
    "smiles = smile_cascade.detectMultiScale(gray2,1.2, 5)\n",
    "\n",
    "for ex, ey, ew, eh in smiles:\n",
    "    cv2.rectangle(img2, (ex, ey), (ex+ew, ey+eh), (255,0,255), 2)\n",
    "\n",
    "\n",
    "cv2.imshow(\"Smile Detection\", img)\n",
    "cv2.waitKey(0)\n",
    "cv2.destroyAllWindows()"
   ]
  },
  {
   "cell_type": "code",
   "execution_count": null,
   "metadata": {},
   "outputs": [],
   "source": []
  }
 ],
 "metadata": {
  "interpreter": {
   "hash": "45899b79995bf8c9aa8da8a527d07c7afb394265703e21f8130836a16ac515d2"
  },
  "kernelspec": {
   "display_name": "Python 3.10.3 64-bit",
   "language": "python",
   "name": "python3"
  },
  "language_info": {
   "codemirror_mode": {
    "name": "ipython",
    "version": 3
   },
   "file_extension": ".py",
   "mimetype": "text/x-python",
   "name": "python",
   "nbconvert_exporter": "python",
   "pygments_lexer": "ipython3",
   "version": "3.10.3"
  },
  "orig_nbformat": 4
 },
 "nbformat": 4,
 "nbformat_minor": 2
}

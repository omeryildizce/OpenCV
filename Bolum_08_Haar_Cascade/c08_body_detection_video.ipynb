{
 "cells": [
  {
   "cell_type": "code",
   "execution_count": 2,
   "metadata": {},
   "outputs": [],
   "source": [
    "import cv2"
   ]
  },
  {
   "cell_type": "code",
   "execution_count": 3,
   "metadata": {},
   "outputs": [],
   "source": [
    "vid = cv2.VideoCapture(\"body.mp4\")\n",
    "body_cascade = cv2.CascadeClassifier(\"fullbody.xml\")"
   ]
  },
  {
   "cell_type": "code",
   "execution_count": 4,
   "metadata": {},
   "outputs": [],
   "source": [
    "while True:\n",
    "    _, frame = vid.read()\n",
    "\n",
    "    if _ == False:\n",
    "        break\n",
    "    \n",
    "    gray = cv2.cvtColor(frame, cv2.COLOR_BGR2GRAY)\n",
    "\n",
    "    bodies = body_cascade.detectMultiScale(gray, 1.1, 4)\n",
    "\n",
    "    for x, y, w, h in bodies:\n",
    "        cv2.rectangle(frame, (x, y), (x+w, y+h), (0,0,255),2)\n",
    "\n",
    "    cv2.imshow(\"Body Detection\", frame)\n",
    "\n",
    "    if cv2.waitKey(10) == 27:\n",
    "        break\n",
    "\n",
    "vid.release()\n",
    "cv2.destroyAllWindows()"
   ]
  }
 ],
 "metadata": {
  "interpreter": {
   "hash": "45899b79995bf8c9aa8da8a527d07c7afb394265703e21f8130836a16ac515d2"
  },
  "kernelspec": {
   "display_name": "Python 3.10.3 64-bit",
   "language": "python",
   "name": "python3"
  },
  "language_info": {
   "codemirror_mode": {
    "name": "ipython",
    "version": 3
   },
   "file_extension": ".py",
   "mimetype": "text/x-python",
   "name": "python",
   "nbconvert_exporter": "python",
   "pygments_lexer": "ipython3",
   "version": "3.10.3"
  },
  "orig_nbformat": 4
 },
 "nbformat": 4,
 "nbformat_minor": 2
}

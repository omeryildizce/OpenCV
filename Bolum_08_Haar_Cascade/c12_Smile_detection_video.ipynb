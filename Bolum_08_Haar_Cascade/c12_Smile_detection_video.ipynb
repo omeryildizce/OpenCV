{
 "cells": [
  {
   "cell_type": "code",
   "execution_count": 60,
   "metadata": {},
   "outputs": [],
   "source": [
    "import cv2"
   ]
  },
  {
   "cell_type": "code",
   "execution_count": 61,
   "metadata": {},
   "outputs": [],
   "source": [
    "face_cascade =  cv2.CascadeClassifier(\"frontalface.xml\")\n",
    "smile_cascade = cv2.CascadeClassifier(\"smile.xml\")\n",
    "\n",
    "vid = cv2.VideoCapture(\"smile.mp4\")"
   ]
  },
  {
   "cell_type": "code",
   "execution_count": 62,
   "metadata": {},
   "outputs": [],
   "source": [
    "while True:\n",
    "    _, frame = vid.read()\n",
    "\n",
    "    if _ == False:\n",
    "        break\n",
    "    \n",
    "    gray = cv2.cvtColor(frame, cv2.COLOR_BGR2GRAY)\n",
    "\n",
    "    faces = face_cascade.detectMultiScale(gray, 1.3, 6)\n",
    "\n",
    "    for x, y, w, h in faces:\n",
    "        cv2.rectangle(frame, (x,y), (x+w, y+h), (255,255,0),3)\n",
    "\n",
    "    frame2 = frame[y:y+h, x:x+w]\n",
    "    gray2 = gray[y:y+h, x:x+w]\n",
    "\n",
    "    smiles = smile_cascade.detectMultiScale(gray2,1.1, 5)\n",
    "\n",
    "    for ex, ey, ew, eh in smiles:\n",
    "        cv2.rectangle(frame2, (ex,ey), (ex+ew, ey+eh), (255,0,255),2)\n",
    "\n",
    "\n",
    "    frame = cv2.resize(frame, (640,480))\n",
    "    cv2.imshow(\"Smile Detection\", frame)\n",
    "    if cv2.waitKey(1) == 27:\n",
    "        break\n",
    "\n",
    "vid.release()\n",
    "cv2.destroyAllWindows()"
   ]
  },
  {
   "cell_type": "code",
   "execution_count": null,
   "metadata": {},
   "outputs": [],
   "source": []
  }
 ],
 "metadata": {
  "interpreter": {
   "hash": "45899b79995bf8c9aa8da8a527d07c7afb394265703e21f8130836a16ac515d2"
  },
  "kernelspec": {
   "display_name": "Python 3.10.3 64-bit",
   "language": "python",
   "name": "python3"
  },
  "language_info": {
   "codemirror_mode": {
    "name": "ipython",
    "version": 3
   },
   "file_extension": ".py",
   "mimetype": "text/x-python",
   "name": "python",
   "nbconvert_exporter": "python",
   "pygments_lexer": "ipython3",
   "version": "3.10.3"
  },
  "orig_nbformat": 4
 },
 "nbformat": 4,
 "nbformat_minor": 2
}

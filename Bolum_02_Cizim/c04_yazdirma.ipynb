{
 "cells": [
  {
   "cell_type": "code",
   "execution_count": 1,
   "metadata": {},
   "outputs": [],
   "source": [
    "import cv2 \n",
    "import numpy as np"
   ]
  },
  {
   "cell_type": "code",
   "execution_count": 19,
   "metadata": {},
   "outputs": [],
   "source": [
    "canvas = np.zeros((512,512,3), dtype = np.uint8) + 255\n",
    "\n",
    "font1 = cv2.FONT_HERSHEY_SIMPLEX\n",
    "font2 = cv2.FONT_HERSHEY_COMPLEX\n",
    "font3 = cv2.FONT_HERSHEY_SCRIPT_COMPLEX\n",
    "font4 = cv2.FONT_HERSHEY_TRIPLEX\n",
    "\n",
    "cv2.putText(canvas, \"OpenCv\", (25,100), font1, 4, (255,255,0), cv2.LINE_AA)\n",
    "cv2.putText(canvas, \"OpenCv\", (25,200), font2, 4, (255,0,255), cv2.LINE_AA)\n",
    "cv2.putText(canvas, \"OpenCv\", (25,300), font3, 4, (0,255,255), cv2.LINE_AA)\n",
    "cv2.putText(canvas, \"OpenCv\", (25,400), font4, 4, (0,0,255), cv2.LINE_AA)\n",
    "\n",
    "cv2.imshow(\"Canvas\", canvas)\n",
    "cv2.waitKey(0)\n",
    "cv2.destroyAllWindows()"
   ]
  }
 ],
 "metadata": {
  "interpreter": {
   "hash": "45899b79995bf8c9aa8da8a527d07c7afb394265703e21f8130836a16ac515d2"
  },
  "kernelspec": {
   "display_name": "Python 3.10.3 64-bit",
   "language": "python",
   "name": "python3"
  },
  "language_info": {
   "codemirror_mode": {
    "name": "ipython",
    "version": 3
   },
   "file_extension": ".py",
   "mimetype": "text/x-python",
   "name": "python",
   "nbconvert_exporter": "python",
   "pygments_lexer": "ipython3",
   "version": "3.10.3"
  },
  "orig_nbformat": 4
 },
 "nbformat": 4,
 "nbformat_minor": 2
}

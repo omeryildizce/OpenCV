{
 "cells": [
  {
   "cell_type": "code",
   "execution_count": 1,
   "metadata": {},
   "outputs": [],
   "source": [
    "import numpy as np\n",
    "import cv2 "
   ]
  },
  {
   "cell_type": "markdown",
   "metadata": {},
   "source": [
    "line() fonksiyonu parametreleri:\n",
    "1. Çizileceği canvas\n",
    "2. Başlangıç noktası\n",
    "3. Bitiş noktası\n",
    "4. Renk (bgr)\n",
    "5. Kalınlık "
   ]
  },
  {
   "cell_type": "code",
   "execution_count": 30,
   "metadata": {},
   "outputs": [],
   "source": [
    "canvas = np.zeros((512,512,3), dtype=np.uint8) +255\n",
    "\n",
    "cv2.line(canvas, (50,50), (500,500), (255,0,0), thickness=5)\n",
    "cv2.line(canvas, (500,50), (50,500), (0,255,0), thickness=5)\n",
    "cv2.line(canvas, (275,50), (275,500), (0,0,255), thickness=5)\n",
    "\n",
    "\n",
    "cv2.imshow(\"Canvas\", canvas)\n",
    "cv2.waitKey(0)\n",
    "cv2.destroyAllWindows()"
   ]
  },
  {
   "cell_type": "markdown",
   "metadata": {},
   "source": [
    "rectangle() fonksiyonu parametreleri:\n",
    "1. Çizileceği canvas\n",
    "2. Sol üst noktası\n",
    "3. Sağ alt noktası\n",
    "4. Renk (bgr)\n",
    "5. Kalınlık (-1) ise içi dolu olur "
   ]
  },
  {
   "cell_type": "code",
   "execution_count": 32,
   "metadata": {},
   "outputs": [],
   "source": [
    "canvas = np.zeros((512,512,3), dtype=np.uint8) +255\n",
    "\n",
    "cv2.rectangle(canvas, (100,100),(400,400), (255,255,0),thickness=5)\n",
    "\n",
    "cv2.imshow(\"Canvas\", canvas)\n",
    "cv2.waitKey(0)\n",
    "cv2.destroyAllWindows()"
   ]
  },
  {
   "cell_type": "code",
   "execution_count": 4,
   "metadata": {},
   "outputs": [],
   "source": [
    "canvas = np.zeros((512,512,3), dtype=np.uint8) +255\n",
    "\n",
    "cv2.rectangle(canvas, (100,100),(400,400), (255,255,0),thickness=-1)\n",
    "\n",
    "cv2.imshow(\"Canvas\", canvas)\n",
    "cv2.waitKey(0)\n",
    "cv2.destroyAllWindows()"
   ]
  },
  {
   "cell_type": "code",
   "execution_count": 5,
   "metadata": {},
   "outputs": [],
   "source": [
    "canvas = np.zeros((512,512,3), dtype=np.uint8) +255\n",
    "\n",
    "cv2.rectangle(canvas, (100,100),(400,400), (255,255,0),thickness=5)\n",
    "cv2.rectangle(canvas, (200,200),(300,300), (255,0,255),thickness=-1)\n",
    "\n",
    "cv2.imshow(\"Canvas\", canvas)\n",
    "cv2.waitKey(0)\n",
    "cv2.destroyAllWindows()"
   ]
  },
  {
   "cell_type": "code",
   "execution_count": 6,
   "metadata": {},
   "outputs": [],
   "source": [
    "canvas = np.zeros((512,512,3), dtype=np.uint8) +255\n",
    "\n",
    "for i in range (512,1,-1):\n",
    "    x = np.random.randint(255)\n",
    "    y = np.random.randint(255)\n",
    "    z = np.random.randint(255)\n",
    "\n",
    "    cv2.rectangle(canvas, (512-i,512-i),(i,i), (x,y,z),thickness=1)\n",
    "\n",
    "cv2.imshow(\"Canvas\", canvas)\n",
    "cv2.waitKey(0)\n",
    "cv2.destroyAllWindows()"
   ]
  },
  {
   "cell_type": "code",
   "execution_count": 7,
   "metadata": {},
   "outputs": [],
   "source": [
    "canvas = np.zeros((512,512,3), dtype=np.uint8) +255\n",
    "\n",
    "for i in range (0,255,8):\n",
    "    x = np.random.randint(255)\n",
    "    y = np.random.randint(255)\n",
    "    z = np.random.randint(255)\n",
    "\n",
    "    cv2.circle(canvas, (255,255),i, (x,y,z),thickness=2)\n",
    "\n",
    "cv2.imshow(\"Canvas\", canvas)\n",
    "cv2.waitKey(0)\n",
    "cv2.destroyAllWindows()"
   ]
  },
  {
   "cell_type": "code",
   "execution_count": 8,
   "metadata": {},
   "outputs": [],
   "source": [
    "canvas = np.zeros((512,512,3), dtype=np.uint8) +255\n",
    "\n",
    "p1 = (50,50)\n",
    "p2 = (500,250)\n",
    "p3 = (50,500)\n",
    "\n",
    "cv2.line(canvas, p1,p2, (255,0,0), thickness=5)\n",
    "cv2.line(canvas, p2,p3, (0,255,0), thickness=5)\n",
    "cv2.line(canvas, p3,p1, (0,0,255), thickness=5)\n",
    "\n",
    "cv2.imshow(\"Canvas\", canvas)\n",
    "cv2.waitKey(0)\n",
    "cv2.destroyAllWindows()"
   ]
  },
  {
   "cell_type": "code",
   "execution_count": 13,
   "metadata": {},
   "outputs": [],
   "source": [
    "canvas = np.zeros((512,512,3), dtype=np.uint8) +255\n",
    "\n",
    "points = np.array([[[110,200],[330,200], [220,250],[100,100]]],np.int32)\n",
    "points1 = np.array([[[50,50],[100,100], [200,80],[80,400]]],np.int32)\n",
    "\n",
    "cv2.polylines(canvas,[points],False,(255,255,0),thickness=5)\n",
    "cv2.polylines(canvas,[points1],True,(0,0,255),thickness=5)\n",
    "\n",
    "\n",
    "cv2.imshow(\"Canvas\", canvas)\n",
    "cv2.waitKey(0)\n",
    "cv2.destroyAllWindows()"
   ]
  },
  {
   "cell_type": "code",
   "execution_count": 28,
   "metadata": {},
   "outputs": [],
   "source": [
    "canvas = np.zeros((512,512,3), dtype=np.uint8) +255\n",
    "\n",
    "cv2.ellipse(canvas, (256,256), (200,100), 20 ,90,360, (255,0,255),thickness=-1)\n",
    "\n",
    "cv2.imshow(\"Canvas\", canvas)\n",
    "cv2.waitKey(0)\n",
    "cv2.destroyAllWindows()"
   ]
  },
  {
   "cell_type": "code",
   "execution_count": null,
   "metadata": {},
   "outputs": [],
   "source": []
  }
 ],
 "metadata": {
  "interpreter": {
   "hash": "45899b79995bf8c9aa8da8a527d07c7afb394265703e21f8130836a16ac515d2"
  },
  "kernelspec": {
   "display_name": "Python 3.10.3 64-bit",
   "language": "python",
   "name": "python3"
  },
  "language_info": {
   "codemirror_mode": {
    "name": "ipython",
    "version": 3
   },
   "file_extension": ".py",
   "mimetype": "text/x-python",
   "name": "python",
   "nbconvert_exporter": "python",
   "pygments_lexer": "ipython3",
   "version": "3.10.3"
  },
  "orig_nbformat": 4
 },
 "nbformat": 4,
 "nbformat_minor": 2
}

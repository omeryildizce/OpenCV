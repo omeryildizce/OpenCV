{
 "cells": [
  {
   "cell_type": "code",
   "execution_count": 68,
   "metadata": {},
   "outputs": [],
   "source": [
    "import cv2\n",
    "import numpy as np"
   ]
  },
  {
   "cell_type": "code",
   "execution_count": 69,
   "metadata": {},
   "outputs": [],
   "source": [
    "img = cv2.imread(\"map.jpg\")\n",
    "gray = cv2.cvtColor(img, cv2.COLOR_BGR2GRAY)"
   ]
  },
  {
   "cell_type": "code",
   "execution_count": 70,
   "metadata": {},
   "outputs": [],
   "source": [
    "blur = cv2.blur(gray, (3,3), )\n",
    "ret, thresh = cv2.threshold(gray,75,255, cv2.THRESH_BINARY)"
   ]
  },
  {
   "cell_type": "code",
   "execution_count": 71,
   "metadata": {},
   "outputs": [],
   "source": [
    "cv2.imshow(\"Orginal\", img)\n",
    "cv2.imshow(\"Gray\", gray)\n",
    "cv2.imshow(\"Blur\", blur)\n",
    "cv2.imshow(\"Thresh\", thresh)\n",
    "\n",
    "cv2.waitKey(0)\n",
    "cv2.destroyAllWindows()"
   ]
  },
  {
   "cell_type": "code",
   "execution_count": 72,
   "metadata": {},
   "outputs": [],
   "source": [
    "blur = cv2.blur(gray, (3,3), )\n",
    "ret, thresh = cv2.threshold(gray,40,255, cv2.THRESH_BINARY) #40\n",
    "\n",
    "contours, hiearchy = cv2.findContours(thresh, cv2.RETR_TREE, cv2.CHAIN_APPROX_SIMPLE ) "
   ]
  },
  {
   "cell_type": "code",
   "execution_count": 73,
   "metadata": {},
   "outputs": [],
   "source": [
    "hull = []\n",
    "\n",
    "for i in range(len(contours)):\n",
    "    hull.append(cv2.convexHull(contours[i],  False) )"
   ]
  },
  {
   "cell_type": "code",
   "execution_count": 74,
   "metadata": {},
   "outputs": [],
   "source": [
    "bg = np.zeros( (thresh.shape[0], thresh.shape[1], 3), np.uint8)\n",
    "\n",
    "for i in range(len(contours)):\n",
    "    cv2.drawContours(bg, contours, i, (255,0,0), 3, 8, hiearchy)\n",
    "    cv2.drawContours(bg, hull, i, (0,255,0), 1, 8)\n"
   ]
  },
  {
   "cell_type": "code",
   "execution_count": 75,
   "metadata": {},
   "outputs": [],
   "source": [
    "cv2.imshow(\"Image\", bg)\n",
    "cv2.imshow(\"Orginal\", img)\n",
    "cv2.imshow(\"Gray\", gray)\n",
    "cv2.imshow(\"Blur\", blur)\n",
    "cv2.imshow(\"Thresh\", thresh)\n",
    "\n",
    "cv2.waitKey(0)\n",
    "cv2.destroyAllWindows()"
   ]
  }
 ],
 "metadata": {
  "interpreter": {
   "hash": "45899b79995bf8c9aa8da8a527d07c7afb394265703e21f8130836a16ac515d2"
  },
  "kernelspec": {
   "display_name": "Python 3.10.3 64-bit",
   "language": "python",
   "name": "python3"
  },
  "language_info": {
   "codemirror_mode": {
    "name": "ipython",
    "version": 3
   },
   "file_extension": ".py",
   "mimetype": "text/x-python",
   "name": "python",
   "nbconvert_exporter": "python",
   "pygments_lexer": "ipython3",
   "version": "3.10.3"
  },
  "orig_nbformat": 4
 },
 "nbformat": 4,
 "nbformat_minor": 2
}

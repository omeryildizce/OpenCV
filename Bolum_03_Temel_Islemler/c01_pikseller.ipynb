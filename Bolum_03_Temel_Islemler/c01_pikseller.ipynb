{
 "cells": [
  {
   "cell_type": "code",
   "execution_count": 37,
   "metadata": {},
   "outputs": [],
   "source": [
    "import cv2 \n",
    "import numpy as np"
   ]
  },
  {
   "cell_type": "code",
   "execution_count": 38,
   "metadata": {},
   "outputs": [
    {
     "data": {
      "text/plain": [
       "array([[[163, 171, 188],\n",
       "        [ 65,  70,  79],\n",
       "        [ 88,  84,  83],\n",
       "        ...,\n",
       "        [203, 202, 211],\n",
       "        [202, 201, 210],\n",
       "        [200, 199, 208]],\n",
       "\n",
       "       [[147, 154, 171],\n",
       "        [ 54,  56,  67],\n",
       "        [ 70,  66,  65],\n",
       "        ...,\n",
       "        [206, 205, 214],\n",
       "        [205, 204, 213],\n",
       "        [204, 203, 212]],\n",
       "\n",
       "       [[132, 136, 154],\n",
       "        [ 49,  49,  61],\n",
       "        [ 63,  58,  57],\n",
       "        ...,\n",
       "        [203, 201, 207],\n",
       "        [203, 201, 207],\n",
       "        [202, 200, 206]],\n",
       "\n",
       "       ...,\n",
       "\n",
       "       [[129, 120, 111],\n",
       "        [127, 118, 109],\n",
       "        [126, 117, 108],\n",
       "        ...,\n",
       "        [ 84,  79,  80],\n",
       "        [ 87,  82,  83],\n",
       "        [ 87,  82,  83]],\n",
       "\n",
       "       [[129, 120, 111],\n",
       "        [126, 117, 108],\n",
       "        [124, 115, 106],\n",
       "        ...,\n",
       "        [ 84,  79,  80],\n",
       "        [ 80,  75,  76],\n",
       "        [ 86,  81,  82]],\n",
       "\n",
       "       [[128, 119, 110],\n",
       "        [124, 115, 106],\n",
       "        [123, 114, 105],\n",
       "        ...,\n",
       "        [ 85,  80,  81],\n",
       "        [ 81,  76,  77],\n",
       "        [ 87,  82,  83]]], dtype=uint8)"
      ]
     },
     "execution_count": 38,
     "metadata": {},
     "output_type": "execute_result"
    }
   ],
   "source": [
    "img = cv2.imread(\"klon.jpg\")\n",
    "img"
   ]
  },
  {
   "cell_type": "markdown",
   "metadata": {},
   "source": [
    "resmin boyutunu gösterme"
   ]
  },
  {
   "cell_type": "code",
   "execution_count": 39,
   "metadata": {},
   "outputs": [
    {
     "data": {
      "text/plain": [
       "(426, 640, 3)"
      ]
     },
     "execution_count": 39,
     "metadata": {},
     "output_type": "execute_result"
    }
   ],
   "source": [
    "dimension = img.shape\n",
    "dimension"
   ]
  },
  {
   "cell_type": "markdown",
   "metadata": {},
   "source": [
    "herhangi bir piksel"
   ]
  },
  {
   "cell_type": "code",
   "execution_count": 40,
   "metadata": {},
   "outputs": [
    {
     "data": {
      "text/plain": [
       "array([158, 153, 144], dtype=uint8)"
      ]
     },
     "execution_count": 40,
     "metadata": {},
     "output_type": "execute_result"
    }
   ],
   "source": [
    "color = img[150,200]\n",
    "color"
   ]
  },
  {
   "cell_type": "code",
   "execution_count": 41,
   "metadata": {},
   "outputs": [
    {
     "data": {
      "text/plain": [
       "array([226, 220, 209], dtype=uint8)"
      ]
     },
     "execution_count": 41,
     "metadata": {},
     "output_type": "execute_result"
    }
   ],
   "source": [
    "color = img[205,250]\n",
    "color"
   ]
  },
  {
   "cell_type": "code",
   "execution_count": 42,
   "metadata": {},
   "outputs": [
    {
     "data": {
      "text/plain": [
       "array([140, 134, 123], dtype=uint8)"
      ]
     },
     "execution_count": 42,
     "metadata": {},
     "output_type": "execute_result"
    }
   ],
   "source": [
    "color = img[420,500]\n",
    "color"
   ]
  },
  {
   "cell_type": "markdown",
   "metadata": {},
   "source": [
    "pikselin bgr renkleri"
   ]
  },
  {
   "cell_type": "code",
   "execution_count": 43,
   "metadata": {},
   "outputs": [
    {
     "data": {
      "text/plain": [
       "140"
      ]
     },
     "execution_count": 43,
     "metadata": {},
     "output_type": "execute_result"
    }
   ],
   "source": [
    "blue = img[420,500,0]\n",
    "blue"
   ]
  },
  {
   "cell_type": "code",
   "execution_count": 44,
   "metadata": {},
   "outputs": [
    {
     "data": {
      "text/plain": [
       "134"
      ]
     },
     "execution_count": 44,
     "metadata": {},
     "output_type": "execute_result"
    }
   ],
   "source": [
    "green = img[420,500,1]\n",
    "green"
   ]
  },
  {
   "cell_type": "code",
   "execution_count": 45,
   "metadata": {},
   "outputs": [
    {
     "data": {
      "text/plain": [
       "123"
      ]
     },
     "execution_count": 45,
     "metadata": {},
     "output_type": "execute_result"
    }
   ],
   "source": [
    "red = img[420,500,2]\n",
    "red"
   ]
  },
  {
   "cell_type": "code",
   "execution_count": 46,
   "metadata": {},
   "outputs": [],
   "source": [
    "img[420,500,0] = 250"
   ]
  },
  {
   "cell_type": "markdown",
   "metadata": {},
   "source": [
    "150x200 pikselindki blue degeri blue1 e eşitledik"
   ]
  },
  {
   "cell_type": "markdown",
   "metadata": {},
   "source": [
    "itemset kordinatlar ve değiştirilmek istenen renk belirtilir"
   ]
  },
  {
   "cell_type": "code",
   "execution_count": 51,
   "metadata": {},
   "outputs": [],
   "source": [
    "blue1 = img.item(150,200,0)\n",
    "img.itemset((150,200,0),50)"
   ]
  },
  {
   "cell_type": "code",
   "execution_count": 52,
   "metadata": {},
   "outputs": [],
   "source": [
    "\n",
    "\n",
    "cv2.imshow(\"Klon Asker\", img)\n",
    "cv2.waitKey(0)\n",
    "cv2.destroyAllWindows()"
   ]
  },
  {
   "cell_type": "code",
   "execution_count": null,
   "metadata": {},
   "outputs": [],
   "source": []
  }
 ],
 "metadata": {
  "interpreter": {
   "hash": "45899b79995bf8c9aa8da8a527d07c7afb394265703e21f8130836a16ac515d2"
  },
  "kernelspec": {
   "display_name": "Python 3.10.3 64-bit",
   "language": "python",
   "name": "python3"
  },
  "language_info": {
   "codemirror_mode": {
    "name": "ipython",
    "version": 3
   },
   "file_extension": ".py",
   "mimetype": "text/x-python",
   "name": "python",
   "nbconvert_exporter": "python",
   "pygments_lexer": "ipython3",
   "version": "3.10.3"
  },
  "orig_nbformat": 4
 },
 "nbformat": 4,
 "nbformat_minor": 2
}

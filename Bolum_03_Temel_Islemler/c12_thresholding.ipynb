{
 "cells": [
  {
   "cell_type": "code",
   "execution_count": 6,
   "metadata": {},
   "outputs": [],
   "source": [
    "import cv2\n",
    "import numpy as np"
   ]
  },
  {
   "cell_type": "code",
   "execution_count": 7,
   "metadata": {},
   "outputs": [],
   "source": [
    "img = cv2.imread(\"helicopter.jpg\",0) # 0 is gray scale\n"
   ]
  },
  {
   "cell_type": "markdown",
   "metadata": {},
   "source": [
    "threshold resim üzerinde öbekleme işlemi yapar\n",
    "\n",
    "max değer: 255"
   ]
  },
  {
   "cell_type": "code",
   "execution_count": 10,
   "metadata": {},
   "outputs": [],
   "source": [
    "\n",
    "ret, thresholding1 = cv2.threshold(img,127,255,cv2.THRESH_BINARY)\n",
    "\n",
    "cv2.imshow(\"img\",img)\n",
    "cv2.imshow(\"Threshold\", thresholding1)\n",
    "cv2.waitKey(0)\n",
    "cv2.destroyAllWindows()"
   ]
  },
  {
   "cell_type": "code",
   "execution_count": 12,
   "metadata": {},
   "outputs": [],
   "source": [
    "\n",
    "ret, thresholding2 = cv2.threshold(img,100,150,cv2.THRESH_BINARY)\n",
    "\n",
    "cv2.imshow(\"img\",img)\n",
    "cv2.imshow(\"Threshold\", thresholding2)\n",
    "cv2.waitKey(0)\n",
    "cv2.destroyAllWindows()"
   ]
  },
  {
   "cell_type": "code",
   "execution_count": 17,
   "metadata": {},
   "outputs": [],
   "source": [
    "\n",
    "ret, thresholding3 = cv2.threshold(img,100,150,cv2.THRESH_BINARY)\n",
    "thresholding4 = cv2.adaptiveThreshold(img,255, cv2.ADAPTIVE_THRESH_MEAN_C, cv2.THRESH_BINARY, 21,2)\n",
    "thresholding5 = cv2.adaptiveThreshold(img,255, cv2.ADAPTIVE_THRESH_GAUSSIAN_C, cv2.THRESH_BINARY, 21,2)\n",
    "\n",
    "cv2.imshow(\"img\",img)\n",
    "cv2.imshow(\"Threshold\", thresholding3)\n",
    "cv2.imshow(\"Adaptive Threshold\", thresholding4)\n",
    "cv2.imshow(\"Adaptive Threshold Gaussian\", thresholding5)\n",
    "cv2.waitKey(0)\n",
    "cv2.destroyAllWindows()"
   ]
  }
 ],
 "metadata": {
  "interpreter": {
   "hash": "45899b79995bf8c9aa8da8a527d07c7afb394265703e21f8130836a16ac515d2"
  },
  "kernelspec": {
   "display_name": "Python 3.10.3 64-bit",
   "language": "python",
   "name": "python3"
  },
  "language_info": {
   "codemirror_mode": {
    "name": "ipython",
    "version": 3
   },
   "file_extension": ".py",
   "mimetype": "text/x-python",
   "name": "python",
   "nbconvert_exporter": "python",
   "pygments_lexer": "ipython3",
   "version": "3.10.3"
  },
  "orig_nbformat": 4
 },
 "nbformat": 4,
 "nbformat_minor": 2
}

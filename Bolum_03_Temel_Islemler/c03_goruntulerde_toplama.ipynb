{
 "cells": [
  {
   "cell_type": "code",
   "execution_count": 1,
   "metadata": {},
   "outputs": [],
   "source": [
    "import cv2\n",
    "import numpy as np"
   ]
  },
  {
   "cell_type": "code",
   "execution_count": 16,
   "metadata": {},
   "outputs": [],
   "source": [
    "circle = np.zeros((512, 512, 3), dtype=np.uint8) + 255\n",
    "cv2.circle(circle, (256, 256), radius=60, color=(255, 0, 0), thickness=-1)\n",
    "\n",
    "rectangle = np.zeros((512, 512, 3), dtype=np.uint8) + 255\n",
    "cv2.rectangle(rectangle, (150, 150),(350,350), (0,0,255),-1) +255\n",
    "\n",
    "cv2.imshow(\"Ciircle\", circle)\n",
    "cv2.imshow(\"Rectangle\", rectangle)\n",
    "cv2.waitKey(0)\n",
    "cv2.destroyAllWindows()"
   ]
  },
  {
   "cell_type": "markdown",
   "metadata": {},
   "source": [
    "ressimleri toplama"
   ]
  },
  {
   "cell_type": "code",
   "execution_count": 17,
   "metadata": {},
   "outputs": [],
   "source": [
    "add = cv2.add(circle,rectangle)\n",
    "cv2.imshow(\"Add\", add)\n",
    "cv2.waitKey(0)\n",
    "cv2.destroyAllWindows()"
   ]
  },
  {
   "cell_type": "code",
   "execution_count": null,
   "metadata": {},
   "outputs": [],
   "source": []
  }
 ],
 "metadata": {
  "language_info": {
   "name": "python"
  },
  "orig_nbformat": 4
 },
 "nbformat": 4,
 "nbformat_minor": 2
}

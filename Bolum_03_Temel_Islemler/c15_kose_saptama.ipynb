{
 "cells": [
  {
   "cell_type": "code",
   "execution_count": 22,
   "metadata": {},
   "outputs": [],
   "source": [
    "import numpy as np\n",
    "import cv2"
   ]
  },
  {
   "cell_type": "code",
   "execution_count": 23,
   "metadata": {},
   "outputs": [],
   "source": [
    "img1 = cv2.imread(\"text.png\") \n",
    "img2 = cv2.imread(\"contour.png\") \n",
    "\n",
    "gray1 = cv2.cvtColor(img1, cv2.COLOR_BGR2GRAY)\n",
    "gray2 = cv2.cvtColor(img2, cv2.COLOR_BGR2GRAY)\n",
    "\n",
    "gray1 = np.float32(gray1)\n",
    "gray2 = np.float32(gray2)"
   ]
  },
  {
   "cell_type": "code",
   "execution_count": 30,
   "metadata": {},
   "outputs": [],
   "source": [
    "corners1 = cv2.goodFeaturesToTrack(gray1,100,0.01,10)\n",
    "corners1 = np.int0(corners1) # çemberler çizerken float sayılar kullanılmaz"
   ]
  },
  {
   "cell_type": "code",
   "execution_count": 31,
   "metadata": {},
   "outputs": [],
   "source": [
    "corners2 = cv2.goodFeaturesToTrack(gray2,50,0.01,10)\n",
    "corners2 = np.int0(corners2) # çemberler çizerken float sayılar kullanılmaz"
   ]
  },
  {
   "cell_type": "code",
   "execution_count": 32,
   "metadata": {},
   "outputs": [],
   "source": [
    "for corner in corners1:\n",
    "    x,y = corner.ravel()\n",
    "    cv2.circle(img1, (x,y), 3, (0,0,255),-1)\n",
    "\n",
    "cv2.imshow(\"corner\", img1)\n",
    "cv2.waitKey(0)\n",
    "cv2.destroyAllWindows()\n"
   ]
  },
  {
   "cell_type": "code",
   "execution_count": 29,
   "metadata": {},
   "outputs": [],
   "source": [
    "for corner in corners2:\n",
    "    x,y = corner.ravel()\n",
    "    cv2.circle(img2, (x,y), 3, (0,0,255),-1)\n",
    "\n",
    "cv2.imshow(\"corner\", img2)\n",
    "cv2.waitKey(0)\n",
    "cv2.destroyAllWindows()\n"
   ]
  }
 ],
 "metadata": {
  "interpreter": {
   "hash": "45899b79995bf8c9aa8da8a527d07c7afb394265703e21f8130836a16ac515d2"
  },
  "kernelspec": {
   "display_name": "Python 3.10.3 64-bit",
   "language": "python",
   "name": "python3"
  },
  "language_info": {
   "codemirror_mode": {
    "name": "ipython",
    "version": 3
   },
   "file_extension": ".py",
   "mimetype": "text/x-python",
   "name": "python",
   "nbconvert_exporter": "python",
   "pygments_lexer": "ipython3",
   "version": "3.10.3"
  },
  "orig_nbformat": 4
 },
 "nbformat": 4,
 "nbformat_minor": 2
}

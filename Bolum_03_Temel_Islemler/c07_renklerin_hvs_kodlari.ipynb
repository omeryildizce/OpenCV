{
 "cells": [
  {
   "cell_type": "code",
   "execution_count": 1,
   "metadata": {},
   "outputs": [],
   "source": [
    "import cv2\n",
    "import numpy as np"
   ]
  },
  {
   "cell_type": "code",
   "execution_count": null,
   "metadata": {},
   "outputs": [],
   "source": [
    "cap = cv2.VideoCapture(0)\n",
    "\n",
    "def nothing(x):\n",
    "    pass\n",
    "\n",
    "cv2.namedWindow(\"Trackbar\")\n",
    "cv2.resizeWindow(\"Trackbar\", 500,500, )\n",
    "\n",
    "cv2.createTrackbar(\"Lower - H\", \"Trackbar\", 0, 180, nothing)\n",
    "cv2.createTrackbar(\"Lower - S\", \"Trackbar\", 0, 255, nothing)\n",
    "cv2.createTrackbar(\"Lower - V\", \"Trackbar\", 0, 255, nothing)\n",
    "\n",
    "cv2.createTrackbar(\"Upper - H\", \"Trackbar\", 0, 180, nothing)\n",
    "cv2.createTrackbar(\"Upper - S\", \"Trackbar\", 0, 255, nothing)\n",
    "cv2.createTrackbar(\"Upper - V\", \"Trackbar\", 0, 255, nothing)\n",
    "\n",
    "cv2.setTrackbarPos(\"Upper - H\", \"Trackbar\", 180, )\n",
    "cv2.setTrackbarPos(\"Upper - S\", \"Trackbar\", 255, )\n",
    "cv2.setTrackbarPos(\"Upper - V\", \"Trackbar\", 255, )\n",
    "\n",
    "while True:\n",
    "    ret, frame = cap.read()\n",
    "    if ret == False:\n",
    "        break\n",
    "    \n",
    "    frame = cv2.flip(frame, 1)\n",
    "\n",
    "    frame_hsv = cv2.cvtColor(frame, cv2.COLOR_BGR2HSV)\n",
    "\n",
    "    lower_h = cv2.getTrackbarPos(\"Lower - H\", \"Trackbar\" )\n",
    "    lower_s = cv2.getTrackbarPos(\"Lower - S\", \"Trackbar\" )\n",
    "    lower_v = cv2.getTrackbarPos(\"Lower - V\", \"Trackbar\" )\n",
    "    \n",
    "    upper_h = cv2.getTrackbarPos(\"Upper - H\", \"Trackbar\" )\n",
    "    upper_s = cv2.getTrackbarPos(\"Upper - S\", \"Trackbar\" )\n",
    "    upper_v = cv2.getTrackbarPos(\"Upper - V\", \"Trackbar\" )\n",
    "\n",
    "    lower_color = np.array([lower_h,lower_s,lower_v])\n",
    "    upper_color = np.array([upper_h,upper_s,upper_v])\n",
    "\n",
    "    mask = cv2.inRange(frame_hsv, lower_color, upper_color)\n",
    "\n",
    "    cv2.imshow(\"Orginal\", frame)\n",
    "    cv2.imshow(\"Mask\", mask)\n",
    "\n",
    "    if cv2.waitKey(1) & 0xFF == ord(\"q\"):\n",
    "        break\n",
    "\n",
    "cap.realese()\n",
    "cv2.destroyAllWindows()"
   ]
  }
 ],
 "metadata": {
  "interpreter": {
   "hash": "45899b79995bf8c9aa8da8a527d07c7afb394265703e21f8130836a16ac515d2"
  },
  "kernelspec": {
   "display_name": "Python 3.10.3 64-bit",
   "language": "python",
   "name": "python3"
  },
  "language_info": {
   "codemirror_mode": {
    "name": "ipython",
    "version": 3
   },
   "file_extension": ".py",
   "mimetype": "text/x-python",
   "name": "python",
   "nbconvert_exporter": "python",
   "pygments_lexer": "ipython3",
   "version": "3.10.3"
  },
  "orig_nbformat": 4
 },
 "nbformat": 4,
 "nbformat_minor": 2
}

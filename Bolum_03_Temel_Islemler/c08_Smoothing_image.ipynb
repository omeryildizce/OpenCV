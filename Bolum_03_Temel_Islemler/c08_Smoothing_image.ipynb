{
 "cells": [
  {
   "cell_type": "code",
   "execution_count": 1,
   "metadata": {},
   "outputs": [],
   "source": [
    "import cv2\n",
    "import numpy as np"
   ]
  },
  {
   "cell_type": "code",
   "execution_count": 2,
   "metadata": {},
   "outputs": [],
   "source": [
    "img_filter = cv2.imread(\"filter.png\")\n",
    "img_median = cv2.imread(\"median.png\")\n",
    "img_bilateral = cv2.imread(\"bilateral.png\")"
   ]
  },
  {
   "cell_type": "code",
   "execution_count": 3,
   "metadata": {},
   "outputs": [],
   "source": [
    "blur_filter = cv2.blur(img_filter, (25,25)) # blur oranını belirledik\n",
    "gaussian_blur_filter = cv2.GaussianBlur(img_filter,(25,25), cv2.BORDER_DEFAULT)\n",
    "\n",
    "cv2.imshow(\"Filter\", img_filter)\n",
    "cv2.imshow(\"Blur\",blur_filter)\n",
    "cv2.imshow(\"Gausian blur\", gaussian_blur_filter)\n",
    "\n",
    "cv2.waitKey(0)\n",
    "cv2.destroyAllWindows()"
   ]
  },
  {
   "cell_type": "code",
   "execution_count": 9,
   "metadata": {},
   "outputs": [],
   "source": [
    "blur_median = cv2.medianBlur(img_median,9)\n",
    "\n",
    "\n",
    "cv2.imshow(\"Orginal\",img_median)\n",
    "cv2.imshow(\"Median\", blur_median)\n",
    "cv2.waitKey(0)\n",
    "cv2.destroyAllWindows()"
   ]
  },
  {
   "cell_type": "code",
   "execution_count": 10,
   "metadata": {},
   "outputs": [],
   "source": [
    "blur_bilateral  = cv2.bilateralFilter(img_bilateral ,9,75,75)\n",
    "\n",
    "\n",
    "cv2.imshow(\"Orginal\",img_bilateral )\n",
    "cv2.imshow(\"Median\", blur_bilateral)\n",
    "cv2.waitKey(0)\n",
    "cv2.destroyAllWindows()"
   ]
  },
  {
   "cell_type": "code",
   "execution_count": null,
   "metadata": {},
   "outputs": [],
   "source": []
  }
 ],
 "metadata": {
  "interpreter": {
   "hash": "45899b79995bf8c9aa8da8a527d07c7afb394265703e21f8130836a16ac515d2"
  },
  "kernelspec": {
   "display_name": "Python 3.10.3 64-bit",
   "language": "python",
   "name": "python3"
  },
  "language_info": {
   "codemirror_mode": {
    "name": "ipython",
    "version": 3
   },
   "file_extension": ".py",
   "mimetype": "text/x-python",
   "name": "python",
   "nbconvert_exporter": "python",
   "pygments_lexer": "ipython3",
   "version": "3.10.3"
  },
  "orig_nbformat": 4
 },
 "nbformat": 4,
 "nbformat_minor": 2
}

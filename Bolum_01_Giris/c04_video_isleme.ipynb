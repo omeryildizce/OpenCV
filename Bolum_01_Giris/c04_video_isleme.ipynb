{
 "cells": [
  {
   "cell_type": "code",
   "execution_count": 1,
   "metadata": {},
   "outputs": [],
   "source": [
    "import cv2"
   ]
  },
  {
   "cell_type": "markdown",
   "metadata": {},
   "source": [
    "videocapture\n",
    "webcam ve klasörden video okuma işlemini gerçekleştirir"
   ]
  },
  {
   "cell_type": "markdown",
   "metadata": {},
   "source": [
    "normalde tek kare aldığı için while döngüsü ile kayıt alma işlemini gerçekleştireceğiz"
   ]
  },
  {
   "cell_type": "markdown",
   "metadata": {},
   "source": [
    "cap.read() \n",
    "iki paremetresi vardır.\n",
    "videonun doğru okunması ve frameler "
   ]
  },
  {
   "cell_type": "code",
   "execution_count": 2,
   "metadata": {},
   "outputs": [],
   "source": [
    "cap = cv2.VideoCapture(0) \n",
    "\n",
    "while True: \n",
    "    ret, frame = cap.read() # frameleri yakalamak için kullanılır\n",
    "    frame = cv2.flip(frame,1) # eksenlere göre video yönünü değiştirir\n",
    "    cv2.imshow(\"Webcam\",frame)\n",
    "\n",
    "    if cv2.waitKey(1) & 0xFF == ord(\"q\"):\n",
    "        break\n",
    "\n",
    "cap.release()\n",
    "cv2.destroyAllWindows()"
   ]
  },
  {
   "cell_type": "code",
   "execution_count": 3,
   "metadata": {},
   "outputs": [],
   "source": [
    "cap1 = cv2.VideoCapture(\"antalya.mp4\")\n",
    "\n",
    "while True:\n",
    "    ret1, frame1 = cap1.read()\n",
    "    if ret1 == 0: # video bittiğinde döngüden cık\n",
    "        break\n",
    "\n",
    "    #frame1 = cv2.flip(frame1,1)\n",
    "    cv2.imshow(\"Video\",frame1)\n",
    "\n",
    "    if cv2.waitKey(30) & 0xFF ==ord(\"q\"):\n",
    "        break\n",
    "cap1.release()\n",
    "cv2.destroyAllWindows()"
   ]
  },
  {
   "cell_type": "code",
   "execution_count": null,
   "metadata": {},
   "outputs": [],
   "source": []
  }
 ],
 "metadata": {
  "interpreter": {
   "hash": "45899b79995bf8c9aa8da8a527d07c7afb394265703e21f8130836a16ac515d2"
  },
  "kernelspec": {
   "display_name": "Python 3.10.3 64-bit",
   "language": "python",
   "name": "python3"
  },
  "language_info": {
   "codemirror_mode": {
    "name": "ipython",
    "version": 3
   },
   "file_extension": ".py",
   "mimetype": "text/x-python",
   "name": "python",
   "nbconvert_exporter": "python",
   "pygments_lexer": "ipython3",
   "version": "3.10.3"
  },
  "orig_nbformat": 4
 },
 "nbformat": 4,
 "nbformat_minor": 2
}

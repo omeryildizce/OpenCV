{
 "cells": [
  {
   "cell_type": "markdown",
   "metadata": {},
   "source": [
    "En boy oranı programı"
   ]
  },
  {
   "cell_type": "code",
   "execution_count": 3,
   "metadata": {},
   "outputs": [],
   "source": [
    "import cv2"
   ]
  },
  {
   "cell_type": "markdown",
   "metadata": {},
   "source": [
    "Resim oluşturulurken oluşacak çakışmaları engellemek için INTER_AREA yı kullandık."
   ]
  },
  {
   "cell_type": "code",
   "execution_count": 4,
   "metadata": {},
   "outputs": [],
   "source": [
    "def resizewithAspectRatio(img,width=None,height=None,inter=cv2.INTER_AREA ):\n",
    "    \n",
    "    dimension = None\n",
    "    (h,w) = img.shape[:2] # resimin orjinal boyutların hesaplama\n",
    "\n",
    "    if width is None and height is None:\n",
    "        return img\n",
    "\n",
    "    if width is None:\n",
    "        r = height / float(h)\n",
    "        dimension = (int(w*r),height)\n",
    "    \n",
    "    else :\n",
    "        r = width/float(w)\n",
    "        dimension = (width ,int(h*r))\n",
    "\n",
    "    return cv2.resize(img,dimension,interpolation=inter)"
   ]
  },
  {
   "cell_type": "code",
   "execution_count": 8,
   "metadata": {},
   "outputs": [],
   "source": [
    "img = cv2.imread(\"Klon.jpg\")\n",
    "img1 = resizewithAspectRatio(img,width=300,height=None,inter=cv2.INTER_AREA )\n",
    "\n",
    "cv2.imshow(\"Orjinal\",img)\n",
    "cv2.imshow(\"Resize\",img1)\n",
    "\n",
    "cv2.waitKey(0)\n",
    "cv2.destroyAllWindows()"
   ]
  },
  {
   "cell_type": "code",
   "execution_count": null,
   "metadata": {},
   "outputs": [],
   "source": []
  }
 ],
 "metadata": {
  "interpreter": {
   "hash": "45899b79995bf8c9aa8da8a527d07c7afb394265703e21f8130836a16ac515d2"
  },
  "kernelspec": {
   "display_name": "Python 3.10.3 64-bit",
   "language": "python",
   "name": "python3"
  },
  "language_info": {
   "codemirror_mode": {
    "name": "ipython",
    "version": 3
   },
   "file_extension": ".py",
   "mimetype": "text/x-python",
   "name": "python",
   "nbconvert_exporter": "python",
   "pygments_lexer": "ipython3",
   "version": "3.10.3"
  },
  "orig_nbformat": 4
 },
 "nbformat": 4,
 "nbformat_minor": 2
}

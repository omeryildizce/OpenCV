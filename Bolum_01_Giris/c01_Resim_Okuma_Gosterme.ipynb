{
 "cells": [
  {
   "cell_type": "markdown",
   "metadata": {},
   "source": [
    "OpenCv Kütüphanesini ekledikten sonra resmimizi okuduk"
   ]
  },
  {
   "cell_type": "code",
   "execution_count": 25,
   "metadata": {},
   "outputs": [
    {
     "data": {
      "text/plain": [
       "array([[[163, 171, 188],\n",
       "        [ 65,  70,  79],\n",
       "        [ 88,  84,  83],\n",
       "        ...,\n",
       "        [203, 202, 211],\n",
       "        [202, 201, 210],\n",
       "        [200, 199, 208]],\n",
       "\n",
       "       [[147, 154, 171],\n",
       "        [ 54,  56,  67],\n",
       "        [ 70,  66,  65],\n",
       "        ...,\n",
       "        [206, 205, 214],\n",
       "        [205, 204, 213],\n",
       "        [204, 203, 212]],\n",
       "\n",
       "       [[132, 136, 154],\n",
       "        [ 49,  49,  61],\n",
       "        [ 63,  58,  57],\n",
       "        ...,\n",
       "        [203, 201, 207],\n",
       "        [203, 201, 207],\n",
       "        [202, 200, 206]],\n",
       "\n",
       "       ...,\n",
       "\n",
       "       [[129, 120, 111],\n",
       "        [127, 118, 109],\n",
       "        [126, 117, 108],\n",
       "        ...,\n",
       "        [ 84,  79,  80],\n",
       "        [ 87,  82,  83],\n",
       "        [ 87,  82,  83]],\n",
       "\n",
       "       [[129, 120, 111],\n",
       "        [126, 117, 108],\n",
       "        [124, 115, 106],\n",
       "        ...,\n",
       "        [ 84,  79,  80],\n",
       "        [ 80,  75,  76],\n",
       "        [ 86,  81,  82]],\n",
       "\n",
       "       [[128, 119, 110],\n",
       "        [124, 115, 106],\n",
       "        [123, 114, 105],\n",
       "        ...,\n",
       "        [ 85,  80,  81],\n",
       "        [ 81,  76,  77],\n",
       "        [ 87,  82,  83]]], dtype=uint8)"
      ]
     },
     "execution_count": 25,
     "metadata": {},
     "output_type": "execute_result"
    }
   ],
   "source": [
    "import cv2\n",
    "\n",
    "img = cv2.imread(\"klon.jpg\")\n",
    "img"
   ]
  },
  {
   "cell_type": "code",
   "execution_count": 26,
   "metadata": {},
   "outputs": [],
   "source": [
    "cv2.namedWindow(\"Klon Resmi\",cv2.WINDOW_NORMAL) #resim çerçevesi üzerinde büyütüp küçültme gibi işlemleri yapmamızı sağlar. imshow ile namedWindow ilk paremetleri aynı şekilde isimlendirilmelidir.\n",
    "\n",
    "cv2.imshow(\"Klon Resmi\",img) # opencv ile resim gösterimi imshow fonksiyonu ile yapılır. fonksiyonun ilk değişkeni pencere adını, ikinci değişkeni ise resim verisini tutar\n",
    "\n",
    "cv2.imwrite(\"Klon1.jpg\",img) #resimi klon1 olarak kaydetme işlemini yaptık.\n",
    "\n",
    "cv2.waitKey(0) # girilen süre(ms) kadar görünmesini sağlar. \n",
    "cv2.destroyAllWindows() # resim penceresini kapatmak için kullanılır."
   ]
  },
  {
   "cell_type": "markdown",
   "metadata": {},
   "source": [
    "Resmi gri tonlarda almak için 2. parametreye 0 değeri verilir."
   ]
  },
  {
   "cell_type": "code",
   "execution_count": 27,
   "metadata": {},
   "outputs": [
    {
     "data": {
      "text/plain": [
       "array([[175,  72,  84, ..., 205, 204, 202],\n",
       "       [158,  59,  66, ..., 208, 207, 206],\n",
       "       [141,  53,  58, ..., 203, 203, 202],\n",
       "       ...,\n",
       "       [118, 116, 115, ...,  80,  83,  83],\n",
       "       [118, 115, 113, ...,  80,  76,  82],\n",
       "       [117, 113, 112, ...,  81,  77,  83]], dtype=uint8)"
      ]
     },
     "execution_count": 27,
     "metadata": {},
     "output_type": "execute_result"
    }
   ],
   "source": [
    "img1 = cv2.imread(\"klon.jpg\",0)\n",
    "img1 "
   ]
  },
  {
   "cell_type": "code",
   "execution_count": 31,
   "metadata": {},
   "outputs": [],
   "source": [
    "#cv2.namedWindow(\"Gri Klon\",cv2.WINDOW_NORMAL)\n",
    "cv2.imshow(\"Gri Klon\",img1)\n",
    "\n",
    "cv2.imwrite(\"Klon Gray Scale.jpg\",img1)\n",
    "\n",
    "cv2.waitKey(0)\n",
    "cv2.destroyAllWindows()"
   ]
  },
  {
   "cell_type": "code",
   "execution_count": null,
   "metadata": {},
   "outputs": [],
   "source": []
  }
 ],
 "metadata": {
  "interpreter": {
   "hash": "45899b79995bf8c9aa8da8a527d07c7afb394265703e21f8130836a16ac515d2"
  },
  "kernelspec": {
   "display_name": "Python 3.10.3 64-bit",
   "language": "python",
   "name": "python3"
  },
  "language_info": {
   "codemirror_mode": {
    "name": "ipython",
    "version": 3
   },
   "file_extension": ".py",
   "mimetype": "text/x-python",
   "name": "python",
   "nbconvert_exporter": "python",
   "pygments_lexer": "ipython3",
   "version": "3.10.3"
  },
  "orig_nbformat": 4
 },
 "nbformat": 4,
 "nbformat_minor": 2
}
